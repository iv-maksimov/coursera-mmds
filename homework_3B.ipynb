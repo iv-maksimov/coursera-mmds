{
 "metadata": {
  "name": "",
  "signature": "sha256:dffec1c39f27d6bd101b84cdde5e8a40761fce7353b25a339eec481a7c052038"
 },
 "nbformat": 3,
 "nbformat_minor": 0,
 "worksheets": [
  {
   "cells": [
    {
     "cell_type": "markdown",
     "metadata": {},
     "source": [
      "#Question 1\n",
      "Suppose we have transactions that satisfy the following assumptions:\n",
      "\n",
      "*    s, the support threshold, is 10,000.\n",
      "*    There are one million items, which are represented by the integers 0,1,...,999999.\n",
      "*    There are N frequent items, that is, items that occur 10,000 times or more.\n",
      "*    There are one million pairs that occur 10,000 times or more.\n",
      "*    There are 2M pairs that occur exactly once. M of these pairs consist of two frequent items, the other M each have at least one nonfrequent item.\n",
      "*    No other pairs occur at all.\n",
      "*    Integers are always represented by 4 bytes.\n",
      "\n",
      "Suppose we run the a-priori algorithm to find frequent pairs and can choose on the second pass between the triangular-matrix method for counting candidate pairs (a triangular array count[i][j] that holds an integer count for each pair of items (i, j) where i < j) and a hash table of item-item-count triples. Neglect in the first case the space needed to translate between original item numbers and numbers for the frequent items, and in the second case neglect the space needed for the hash table. Assume that item numbers and counts are always 4-byte integers.\n",
      "As a function of N and M, what is the minimum number of bytes of main memory needed to execute the a-priori algorithm on this data? Demonstrate that you have the correct formula by selecting, from the choices below, the triple consisting of values for N, M, and the (approximate, i.e., to within 10%) minumum number of bytes of main memory, S, needed for the a-priori algorithm to execute with this data."
     ]
    },
    {
     "cell_type": "code",
     "collapsed": false,
     "input": [
      "from math import pow\n",
      "\n",
      "def triangular_matrix_space_calculator(N):\n",
      "    return (10000000 + pow(N, 2) / 2) * 4\n",
      "\n",
      "def triple_method_space_calculator(M):\n",
      "    return (10000000 + (3 * M)) * 4\n",
      "\n",
      "sets_to_test = [\n",
      "    {\"N\": 20000, \"M\": 80000000, \"S\": 1100000000 },\n",
      "    {\"N\": 50000, \"M\": 40000000, \"S\": 800000000 },\n",
      "    {\"N\": 10000, \"M\": 40000000, \"S\": 200000000 },\n",
      "    {\"N\": 40000, \"M\": 60000000, \"S\": 3200000000 }\n",
      "]\n",
      "\n",
      "for index, set_to_test in enumerate(sets_to_test):\n",
      "    triangular = triangular_matrix_space_calculator(set_to_test[\"N\"])\n",
      "    triple = triple_method_space_calculator(set_to_test[\"M\"])\n",
      "    \n",
      "    best = min(triangular, triple)\n",
      "    \n",
      "    \n",
      "    if set_to_test[\"S\"] * 0.8 <= best <= set_to_test[\"S\"] * 1.2:\n",
      "        print(\"{0}: N={1}; M={2}; S={3}\".format(index + 1, set_to_test[\"N\"], set_to_test[\"M\"], set_to_test[\"S\"]))"
     ],
     "language": "python",
     "metadata": {},
     "outputs": [
      {
       "output_type": "stream",
       "stream": "stdout",
       "text": [
        "3: N=10000; M=40000000; S=200000000\n"
       ]
      }
     ],
     "prompt_number": 13
    },
    {
     "cell_type": "code",
     "collapsed": false,
     "input": [],
     "language": "python",
     "metadata": {},
     "outputs": []
    }
   ],
   "metadata": {}
  }
 ]
}