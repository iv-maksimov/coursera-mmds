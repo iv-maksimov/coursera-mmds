{
 "cells": [
  {
   "cell_type": "code",
   "execution_count": 15,
   "metadata": {
    "collapsed": false
   },
   "outputs": [],
   "source": [
    "import numpy as np\n",
    "import scipy as sp\n",
    "from scipy.spatial.distance import euclidean as euclidean_dist\n",
    "from collections import defaultdict\n",
    "from matplotlib import pyplot as plt\n",
    "from matplotlib.patches import Rectangle\n",
    "%matplotlib inline"
   ]
  },
  {
   "cell_type": "markdown",
   "metadata": {},
   "source": [
    "#Question 1\n",
    "We wish to cluster the following set of points: "
   ]
  },
  {
   "cell_type": "code",
   "execution_count": 16,
   "metadata": {
    "collapsed": false
   },
   "outputs": [
    {
     "data": {
      "text/html": [
       "<img src=\"https://d396qusza40orc.cloudfront.net/mmds/images/otc_gold.gif\"/>"
      ],
      "text/plain": [
       "<IPython.core.display.Image object>"
      ]
     },
     "execution_count": 16,
     "metadata": {},
     "output_type": "execute_result"
    }
   ],
   "source": [
    "from IPython.display import Image\n",
    "Image(url='https://d396qusza40orc.cloudfront.net/mmds/images/otc_gold.gif')"
   ]
  },
  {
   "cell_type": "markdown",
   "metadata": {},
   "source": [
    " into 10 clusters. We initially choose each of the green points (25,125), (44,105), (29,97), (35,63), (55,63), (42,57), (23,40), (64,37), (33,22), and (55,20) as a centroid. Assign each of the gold points to their nearest centroid. (Note: the scales of the horizontal and vertical axes differ, so you really need to apply the formula for distance of points; you can't just \"eyeball\" it.) Then, recompute the centroids of each of the clusters. Do any of the points then get reassigned to a new cluster on the next round? Identify the true statement in the list below. Each statement refers either to a centroid AFTER recomputation of centroids (precise to one decimal place) or to a point that gets reclassified.\n",
    "* There is a centroid after recomputation at (56,70.3)\n",
    "* There is a centroid after recomputation at (50.3,116.3)\n",
    "* There is a centroid after recomputation at (34.3,133.3)\n",
    "* There is a centroid after recomputation at (55,20)\n"
   ]
  },
  {
   "cell_type": "code",
   "execution_count": 17,
   "metadata": {
    "collapsed": false
   },
   "outputs": [],
   "source": [
    "points = np.array([(25,125), (44,105), (29,97), (35,63), (55,63), (42,57), (23,40), (64,37), (33,22), (55,20),\n",
    "          (50,30), (50,60), (28,145), (65,140), (50,130), (38,115), (55,118), (50,90), (43,83), (63,88)])\n",
    "centroid_0 = np.array([(25,125), (44,105), (29,97), (35,63), (55,63), (42,57), (23,40), (64,37), (33,22), (55,20)])"
   ]
  },
  {
   "cell_type": "code",
   "execution_count": 18,
   "metadata": {
    "collapsed": true
   },
   "outputs": [],
   "source": [
    "def euclid_dist(point):    \n",
    "    return np.sqrt(np.sum(point**2))"
   ]
  },
  {
   "cell_type": "code",
   "execution_count": 19,
   "metadata": {
    "collapsed": false
   },
   "outputs": [],
   "source": [
    "centroid = centroid_0\n",
    "dist_func = np.vectorize(euclidean_dist)\n",
    "def iter_clust(points, centroid):\n",
    "    data_dist = []\n",
    "    clusters = defaultdict(list)\n",
    "    for i in range(points.shape[0]):\n",
    "        data_dist.append(dist_func(points[i], centroid))\n",
    "    data_dist=np.array(data_dist)\n",
    "    data_dist = np.apply_along_axis(euclid_dist, 2, data_dist) # distance each point to each centroid\n",
    "    for i in range(points.shape[0]):\n",
    "        clusters[np.argmin(data_dist[i])].append(points[i])\n",
    "    \n",
    "    centroid_new = {}\n",
    "    for i in range(centroid.shape[0]):\n",
    "        centroid_new[i] = np.mean(clusters[i], axis=0)\n",
    "    return centroid_new"
   ]
  },
  {
   "cell_type": "code",
   "execution_count": 20,
   "metadata": {
    "collapsed": false
   },
   "outputs": [
    {
     "name": "stdout",
     "output_type": "stream",
     "text": [
      "Centroid after 1 iteration: {0: array([  34.33333333,  133.33333333]), 1: array([  52.5       ,  109.33333333]), 2: array([ 36.,  90.]), 3: array([ 35.,  63.]), 4: array([ 52.5,  61.5]), 5: array([ 42.,  57.]), 6: array([ 23.,  40.]), 7: array([ 64.,  37.]), 8: array([ 33.,  22.]), 9: array([ 52.5,  25. ])}\n"
     ]
    }
   ],
   "source": [
    "centroid_1_iter = iter_clust(points, centroid)\n",
    "print('Centroid after 1 iteration:',centroid_1_iter)"
   ]
  },
  {
   "cell_type": "markdown",
   "metadata": {},
   "source": [
    "#Question 2\n",
    "When performing a k-means clustering, success depends very much on the initially chosen points. Suppose that we choose two centroids (a,b) = (5,10) and (c,d) = (20,5), and the data truly belongs to two rectangular clusters, as suggested by the following diagram: "
   ]
  },
  {
   "cell_type": "code",
   "execution_count": 21,
   "metadata": {
    "collapsed": false
   },
   "outputs": [
    {
     "data": {
      "text/html": [
       "<img src=\"https://d396qusza40orc.cloudfront.net/mmds/images/otc_sq-clust.gif\"/>"
      ],
      "text/plain": [
       "<IPython.core.display.Image object>"
      ]
     },
     "execution_count": 21,
     "metadata": {},
     "output_type": "execute_result"
    }
   ],
   "source": [
    "Image(url='https://d396qusza40orc.cloudfront.net/mmds/images/otc_sq-clust.gif')"
   ]
  },
  {
   "cell_type": "markdown",
   "metadata": {},
   "source": [
    " Under what circumstances will the initial clustering be successful? That is, under what conditions will all the yellow points be assigned to the centroid (5,10), while all of the blue points are assigned to cluster (20,5))? Identify in the list below, a pair of rectangles (described by their upper left corner, UL, and their lower-right corner LR) that are successfully clustered.\n",
    "* Yellow: UL=(6,7) and LR=(11,4); Blue: UL=(11,5) and LR=(17,2)\n",
    "* Yellow: UL=(3,3) and LR=(10,1); Blue: UL=(13,10) and LR=(16,4)\n",
    "* Yellow: UL=(3,3) and LR=(10,1); Blue: UL=(15,14) and LR=(20,10)\n",
    "* Yellow: UL=(7,8) and LR=(12,5); Blue: UL=(13,10) and LR=(16,4)\n"
   ]
  },
  {
   "cell_type": "code",
   "execution_count": 42,
   "metadata": {
    "collapsed": false
   },
   "outputs": [],
   "source": [
    "centroids = np.array([(5,10), (20,5)])\n",
    "def plot_pic(Yellow, Blue):\n",
    "    plt.plot(centroids[0,0],centroids[0,1], 'yo')\n",
    "    plt.plot(centroids[1,0],centroids[1,1], 'bo')\n",
    "    plt.axes().set_xlim(0,25)\n",
    "    plt.axes().set_ylim(0,25)\n",
    "    plt.gca().add_patch(Rectangle((Yellow[0][0],Yellow[1][1]),Yellow[1][0]-Yellow[0][0],Yellow[0][1]-Yellow[1][1], facecolor='yellow'))\n",
    "    plt.gca().add_patch(Rectangle((Blue[0][0],Blue[1][1]),Blue[1][0]-Blue[0][0],Blue[0][1]-Blue[1][1], facecolor='blue'))\n",
    "def plot_perpendicular_bisector(centroids):\n",
    "    midpoint = ((centroids[0][0]+centroids[1][0])/2,  (centroids[0][1]+centroids[1][1])/2)\n",
    "    print(midpoint)\n",
    "    slope = ((centroids[1][1]-centroids[0][1])/(centroids[1][0]-centroids[0][0]))\n",
    "    slope_perp = -1/slope\n",
    "    b = midpoint[1] - slope_perp * midpoint[0]\n",
    "    plt.plot(np.linspace(0,25,1000), np.linspace(0,25,1000) * slope_perp + b, 'r')\n",
    "    "
   ]
  },
  {
   "cell_type": "code",
   "execution_count": 45,
   "metadata": {
    "collapsed": false
   },
   "outputs": [
    {
     "name": "stdout",
     "output_type": "stream",
     "text": [
      "(12.5, 7.5)\n"
     ]
    },
    {
     "data": {
      "image/png": "[encoded data removed]",
      "text/plain": [
       "<matplotlib.figure.Figure at 0x7f631f6167f0>"
      ]
     },
     "metadata": {},
     "output_type": "display_data"
    }
   ],
   "source": [
    "Yellow1 = ((7,8), (12,5))\n",
    "Blue1 = ((13,10), (16,4))\n",
    "plot_perpendicular_bisector(centroids)\n",
    "plot_pic(Yellow1, Blue1)"
   ]
  },
  {
   "cell_type": "code",
   "execution_count": 46,
   "metadata": {
    "collapsed": false
   },
   "outputs": [
    {
     "name": "stdout",
     "output_type": "stream",
     "text": [
      "(12.5, 7.5)\n"
     ]
    },
    {
     "data": {
      "image/png": "[encoded data removed]",
      "text/plain": [
       "<matplotlib.figure.Figure at 0x7f631f5a0898>"
      ]
     },
     "metadata": {},
     "output_type": "display_data"
    }
   ],
   "source": [
    "Yellow2 = ((7,12),(12,8))\n",
    "Blue2 = ((16,19), (25,12))\n",
    "plot_perpendicular_bisector(centroids)\n",
    "plot_pic(Yellow2, Blue2)"
   ]
  },
  {
   "cell_type": "code",
   "execution_count": 47,
   "metadata": {
    "collapsed": false
   },
   "outputs": [
    {
     "name": "stdout",
     "output_type": "stream",
     "text": [
      "(12.5, 7.5)\n"
     ]
    },
    {
     "data": {
      "image/png": "[encoded data removed]",
      "text/plain": [
       "<matplotlib.figure.Figure at 0x7f631f878080>"
      ]
     },
     "metadata": {},
     "output_type": "display_data"
    }
   ],
   "source": [
    "Yellow3 = ((6,7),(11,4))\n",
    "Blue3 = ((14,10),(23,6) )\n",
    "plot_perpendicular_bisector(centroids)\n",
    "plot_pic(Yellow3, Blue3)"
   ]
  },
  {
   "cell_type": "code",
   "execution_count": 48,
   "metadata": {
    "collapsed": false
   },
   "outputs": [
    {
     "name": "stdout",
     "output_type": "stream",
     "text": [
      "(12.5, 7.5)\n"
     ]
    },
    {
     "data": {
      "image/png": "[encoded data removed]",
      "text/plain": [
       "<matplotlib.figure.Figure at 0x7f631f8c2ef0>"
      ]
     },
     "metadata": {},
     "output_type": "display_data"
    }
   ],
   "source": [
    "Yellow3 = ((3,15),(13,7))\n",
    "Blue3 = ((14,10),(23,6) )\n",
    "plot_perpendicular_bisector(centroids)\n",
    "plot_pic(Yellow3, Blue3)"
   ]
  },
  {
   "cell_type": "markdown",
   "metadata": {
    "collapsed": true
   },
   "source": [
    "#Question 3\n",
    "Suppose we apply the BALANCE algorithm with bids of 0 or 1 only, to a situation where advertiser A bids on query words x and y, while advertiser B bids on query words x and z. Both have a budget of $2. Identify in the list below a sequence of four queries that will certainly be handled optimally by the algorithm.\n",
    "\n",
    "* xyxz \t\t\t\n",
    "* xzzz \t\t\t\n",
    "* xxxy \t\t\t\n",
    "* xyzx \tCorrect \t1.00 \t\n",
    "\n",
    "Whichever advertiser is assigned the first x, the other will be assigned the second x, thus using all four queries. "
   ]
  },
  {
   "cell_type": "markdown",
   "metadata": {},
   "source": [
    "#Question 4\n",
    "The set cover problem is: given a list of sets, find a smallest collection of these sets such that every element in any of the sets is in at least one set of the collection. As we form a collection, we say an element is covered if it is in at least one set of the collection. Note: In this problem, we shall represent sets by concatenating their elements, without brackets or commas. For example, {A,B} will be represented simply as AB. There are many greedy algorithms that could be used to pick a collection of sets that is close to as small as possible. Here are some that you will consider in this problem. Dumb: Select sets for the collection in the order in which they appear on the list. Stop when all elements are covered. Simple: Consider sets in the order in which they appear on the list. When it is considered, select a set if it has at least one element that is not already covered. Stop when all elements are covered. Largest-First: Consider sets in order of their size. If there are ties, break the tie in favor of the one that appears first on the list. When it is considered, select a set if it has at least one element that is not already covered. Stop when all elements are covered. Most-Help: Consider sets in order of the number of elements they contain that are not already covered. If there are ties, break the tie in favor of the one that appears first on the list. Stop when all elements are covered. Here is a list of sets: AB, BC, CD, DE, EF, FG, GH, AH, ADG, ADF First, determine the optimum solution, that is, the fewest sets that can be selected for a collection that covers all eight elements A,B,...,H. Then, determine the sizes of the collections that will be constructed by each of the four algorithms mentioned above. Compute the ratio of the size returned by the algorithm to the optimum size, and identify one of these ratios in the list below, correct to two decimal places.\n",
    "\n",
    "Dumb: 2\n",
    "\n",
    "Largest-First: 1.5\n",
    "\n",
    "Most-Help: 1.25\n",
    "\n"
   ]
  },
  {
   "cell_type": "markdown",
   "metadata": {},
   "source": [
    "#Question 5\n",
    "This bipartite graph:"
   ]
  },
  {
   "cell_type": "code",
   "execution_count": 49,
   "metadata": {
    "collapsed": false
   },
   "outputs": [
    {
     "data": {
      "text/html": [
       "<img src=\"https://d396qusza40orc.cloudfront.net/mmds/images/otc.gif\"/>"
      ],
      "text/plain": [
       "<IPython.core.display.Image object>"
      ]
     },
     "execution_count": 49,
     "metadata": {},
     "output_type": "execute_result"
    }
   ],
   "source": [
    "Image(url='https://d396qusza40orc.cloudfront.net/mmds/images/otc.gif')"
   ]
  },
  {
   "cell_type": "markdown",
   "metadata": {},
   "source": [
    "Has several perfect matchings. Find all the perfect matchings and then identify, in the list below, a pair of edges that can appear together in a perfect matching."
   ]
  },
  {
   "cell_type": "markdown",
   "metadata": {},
   "source": [
    "a0 - b1\n",
    "\n",
    "a1 - b3\n",
    "\n",
    "a2 - b0\n",
    "\n",
    "a3 - b2\n",
    "\n",
    "a4 - b4"
   ]
  },
  {
   "cell_type": "code",
   "execution_count": null,
   "metadata": {
    "collapsed": true
   },
   "outputs": [],
   "source": []
  }
 ],
 "metadata": {
  "kernelspec": {
   "display_name": "Python 3",
   "language": "python",
   "name": "python3"
  },
  "language_info": {
   "codemirror_mode": {
    "name": "ipython",
    "version": 3
   },
   "file_extension": ".py",
   "mimetype": "text/x-python",
   "name": "python",
   "nbconvert_exporter": "python",
   "pygments_lexer": "ipython3",
   "version": "3.4.0"
  }
 },
 "nbformat": 4,
 "nbformat_minor": 0
}
