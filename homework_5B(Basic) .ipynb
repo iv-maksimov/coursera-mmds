{
 "cells": [
  {
   "cell_type": "code",
   "execution_count": 150,
   "metadata": {
    "collapsed": false
   },
   "outputs": [],
   "source": [
    "import numpy as np\n",
    "import scipy as sp\n",
    "from scipy.spatial.distance import euclidean as euclidean_dist\n",
    "from collections import defaultdict\n",
    "from matplotlib import pyplot as plt\n",
    "%matplotlib inline"
   ]
  },
  {
   "cell_type": "markdown",
   "metadata": {},
   "source": [
    "#Question 1\n",
    "We wish to cluster the following set of points: "
   ]
  },
  {
   "cell_type": "code",
   "execution_count": 151,
   "metadata": {
    "collapsed": false
   },
   "outputs": [
    {
     "data": {
      "text/html": [
       "<img src=\"https://d396qusza40orc.cloudfront.net/mmds/images/otc_gold.gif\"/>"
      ],
      "text/plain": [
       "<IPython.core.display.Image object>"
      ]
     },
     "execution_count": 151,
     "metadata": {},
     "output_type": "execute_result"
    }
   ],
   "source": [
    "from IPython.display import Image\n",
    "Image(url='https://d396qusza40orc.cloudfront.net/mmds/images/otc_gold.gif')"
   ]
  },
  {
   "cell_type": "markdown",
   "metadata": {},
   "source": [
    " into 10 clusters. We initially choose each of the green points (25,125), (44,105), (29,97), (35,63), (55,63), (42,57), (23,40), (64,37), (33,22), and (55,20) as a centroid. Assign each of the gold points to their nearest centroid. (Note: the scales of the horizontal and vertical axes differ, so you really need to apply the formula for distance of points; you can't just \"eyeball\" it.) Then, recompute the centroids of each of the clusters. Do any of the points then get reassigned to a new cluster on the next round? Identify the true statement in the list below. Each statement refers either to a centroid AFTER recomputation of centroids (precise to one decimal place) or to a point that gets reclassified.\n",
    "* There is a centroid after recomputation at (56,70.3)\n",
    "* There is a centroid after recomputation at (50.3,116.3)\n",
    "* There is a centroid after recomputation at (34.3,133.3)\n",
    "* There is a centroid after recomputation at (55,20)\n"
   ]
  },
  {
   "cell_type": "code",
   "execution_count": 152,
   "metadata": {
    "collapsed": true
   },
   "outputs": [],
   "source": [
    "points = np.array([(25,125), (44,105), (29,97), (35,63), (55,63), (42,57), (23,40), (64,37), (33,22), (55,20),\n",
    "          (50,30), (50,60), (28,145), (65,140), (50,130), (38,115), (55,118), (50,90), (43,83), (63,88)])\n",
    "centroid_0 = np.array([(25,125), (44,105), (29,97), (35,63), (55,63), (42,57), (23,40), (64,37), (33,22), (55,20)])"
   ]
  },
  {
   "cell_type": "code",
   "execution_count": 153,
   "metadata": {
    "collapsed": true
   },
   "outputs": [],
   "source": [
    "def euclid_dist(point):    \n",
    "    return np.sqrt(np.sum(point**2))"
   ]
  },
  {
   "cell_type": "code",
   "execution_count": 154,
   "metadata": {
    "collapsed": false
   },
   "outputs": [],
   "source": [
    "centroid = centroid_0\n",
    "dist_func = np.vectorize(euclidean_dist)\n",
    "def iter_clust(points, centroid):\n",
    "    data_dist = []\n",
    "    clusters = defaultdict(list)\n",
    "    for i in range(points.shape[0]):\n",
    "        data_dist.append(dist_func(points[i], centroid))\n",
    "    data_dist=np.array(data_dist)\n",
    "    data_dist = np.apply_along_axis(euclid_dist, 2, data_dist) # distance each point to each centroid\n",
    "    for i in range(points.shape[0]):\n",
    "        clusters[np.argmin(data_dist[i])].append(points[i])\n",
    "    \n",
    "    centroid_new = {}\n",
    "    for i in range(centroid.shape[0]):\n",
    "        centroid_new[i] = np.mean(clusters[i], axis=0)\n",
    "    return centroid_new"
   ]
  },
  {
   "cell_type": "code",
   "execution_count": 155,
   "metadata": {
    "collapsed": false
   },
   "outputs": [
    {
     "name": "stdout",
     "output_type": "stream",
     "text": [
      "Centroid after 1 iteration: {0: array([  34.33333333,  133.33333333]), 1: array([  52.5       ,  109.33333333]), 2: array([ 36.,  90.]), 3: array([ 35.,  63.]), 4: array([ 52.5,  61.5]), 5: array([ 42.,  57.]), 6: array([ 23.,  40.]), 7: array([ 64.,  37.]), 8: array([ 33.,  22.]), 9: array([ 52.5,  25. ])}\n"
     ]
    }
   ],
   "source": [
    "centroid_1_iter = iter_clust(points, centroid)\n",
    "print('Centroid after 1 iteration:',centroid_1_iter)"
   ]
  },
  {
   "cell_type": "markdown",
   "metadata": {},
   "source": [
    "#Question 2\n",
    "When performing a k-means clustering, success depends very much on the initially chosen points. Suppose that we choose two centroids (a,b) = (5,10) and (c,d) = (20,5), and the data truly belongs to two rectangular clusters, as suggested by the following diagram: "
   ]
  },
  {
   "cell_type": "code",
   "execution_count": 156,
   "metadata": {
    "collapsed": false
   },
   "outputs": [
    {
     "data": {
      "text/html": [
       "<img src=\"https://d396qusza40orc.cloudfront.net/mmds/images/otc_sq-clust.gif\"/>"
      ],
      "text/plain": [
       "<IPython.core.display.Image object>"
      ]
     },
     "execution_count": 156,
     "metadata": {},
     "output_type": "execute_result"
    }
   ],
   "source": [
    "Image(url='https://d396qusza40orc.cloudfront.net/mmds/images/otc_sq-clust.gif')"
   ]
  },
  {
   "cell_type": "markdown",
   "metadata": {},
   "source": [
    " Under what circumstances will the initial clustering be successful? That is, under what conditions will all the yellow points be assigned to the centroid (5,10), while all of the blue points are assigned to cluster (20,5))? Identify in the list below, a pair of rectangles (described by their upper left corner, UL, and their lower-right corner LR) that are successfully clustered.\n",
    "* Yellow: UL=(6,7) and LR=(11,4); Blue: UL=(11,5) and LR=(17,2)\n",
    "* Yellow: UL=(3,3) and LR=(10,1); Blue: UL=(13,10) and LR=(16,4)\n",
    "* Yellow: UL=(3,3) and LR=(10,1); Blue: UL=(15,14) and LR=(20,10)\n",
    "* Yellow: UL=(7,8) and LR=(12,5); Blue: UL=(13,10) and LR=(16,4)\n"
   ]
  },
  {
   "cell_type": "code",
   "execution_count": 157,
   "metadata": {
    "collapsed": false
   },
   "outputs": [],
   "source": [
    "centroids = np.array([(5,10), (20,5)])\n",
    "def plot_pic(Yellow, Blue):\n",
    "    plt.plot(centroids[0,0],centroids[0,1], 'yo')\n",
    "    plt.plot(centroids[1,0],centroids[1,1], 'bo')\n",
    "    plt.axes().set_xlim(0,25)\n",
    "    plt.axes().set_ylim(0,25)\n",
    "    plt.gca().add_patch(Rectangle((Yellow[0][0],Yellow[1][1]),Yellow[1][0]-Yellow[0][0],Yellow[0][1]-Yellow[1][1], facecolor='yellow'))\n",
    "    plt.gca().add_patch(Rectangle((Blue[0][0],Blue[1][1]),Blue[1][0]-Blue[0][0],Blue[0][1]-Blue[1][1], facecolor='blue'))\n"
   ]
  },
  {
   "cell_type": "code",
   "execution_count": 158,
   "metadata": {
    "collapsed": false
   },
   "outputs": [
    {
     "data": {
      "image/png": "[encoded data removed]",
      "text/plain": [
       "<matplotlib.figure.Figure at 0xaf5a5cac>"
      ]
     },
     "metadata": {},
     "output_type": "display_data"
    }
   ],
   "source": [
    "Yellow1 = ((6,7), (11,4))\n",
    "Blue1 = ((11,5),(17,2))\n",
    "plot_pic(Yellow1, Blue1)"
   ]
  },
  {
   "cell_type": "code",
   "execution_count": 159,
   "metadata": {
    "collapsed": false
   },
   "outputs": [
    {
     "data": {
      "image/png": "[encoded data removed]",
      "text/plain": [
       "<matplotlib.figure.Figure at 0xaf63468c>"
      ]
     },
     "metadata": {},
     "output_type": "display_data"
    }
   ],
   "source": [
    "Yellow2 = ((3,3), (10,1))\n",
    "Blue2 = ((13,10),(16,4))\n",
    "plot_pic(Yellow2, Blue2)"
   ]
  },
  {
   "cell_type": "code",
   "execution_count": 160,
   "metadata": {
    "collapsed": false
   },
   "outputs": [
    {
     "data": {
      "image/png": "[encoded data removed]",
      "text/plain": [
       "<matplotlib.figure.Figure at 0xaf5d580c>"
      ]
     },
     "metadata": {},
     "output_type": "display_data"
    }
   ],
   "source": [
    "Yellow3 = ((3,3), (10,1))\n",
    "Blue3 = ((15,14),(20,10))\n",
    "plot_pic(Yellow3, Blue3)"
   ]
  },
  {
   "cell_type": "code",
   "execution_count": null,
   "metadata": {
    "collapsed": false
   },
   "outputs": [],
   "source": []
  },
  {
   "cell_type": "code",
   "execution_count": null,
   "metadata": {
    "collapsed": true
   },
   "outputs": [],
   "source": []
  }
 ],
 "metadata": {
  "kernelspec": {
   "display_name": "Python 3",
   "language": "python",
   "name": "python3"
  },
  "language_info": {
   "codemirror_mode": {
    "name": "ipython",
    "version": 3
   },
   "file_extension": ".py",
   "mimetype": "text/x-python",
   "name": "python",
   "nbconvert_exporter": "python",
   "pygments_lexer": "ipython3",
   "version": "3.4.2"
  }
 },
 "nbformat": 4,
 "nbformat_minor": 0
}
