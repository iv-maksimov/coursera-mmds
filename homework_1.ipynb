{
 "cells": [
  {
   "cell_type": "markdown",
   "metadata": {},
   "source": [
    "##Question 1"
   ]
  },
  {
   "cell_type": "markdown",
   "metadata": {},
   "source": [
    "Consider three Web pages with the following links:"
   ]
  },
  {
   "cell_type": "code",
   "execution_count": 1,
   "metadata": {
    "collapsed": false
   },
   "outputs": [
    {
     "data": {
      "text/html": [
       "<img src=\"https://d396qusza40orc.cloudfront.net/mmds/images/otc_pagerank2.gif\"/>"
      ],
      "text/plain": [
       "<IPython.core.display.Image object>"
      ]
     },
     "execution_count": 1,
     "metadata": {},
     "output_type": "execute_result"
    }
   ],
   "source": [
    "from IPython.display import Image\n",
    "Image(url='https://d396qusza40orc.cloudfront.net/mmds/images/otc_pagerank2.gif')"
   ]
  },
  {
   "cell_type": "markdown",
   "metadata": {},
   "source": [
    "Suppose we compute PageRank with a β of 0.7, and we introduce the additional constraint that the sum of the PageRanks of the three pages must be 3, to handle the problem that otherwise any multiple of a solution will also be a solution. Compute the PageRanks a, b, and c of the three pages A, B, and C, respectively. Then, identify from the list below, the true statement."
   ]
  },
  {
   "cell_type": "code",
   "execution_count": 2,
   "metadata": {
    "collapsed": false
   },
   "outputs": [],
   "source": [
    "import numpy as np\n",
    "def iteraction(N, bet, M, n_iter=50,sumPageRanks=1):\n",
    "    A = bet * M + (1 - bet) * 1/N * np.ones((N,N)) \n",
    "    r_i = sumPageRanks/N * np.ones(N)\n",
    "    print('Matrix A\\n', A, '\\n')\n",
    "    eps = 0.0001 # threshold\n",
    "    for i in range(n_iter):\n",
    "        r_i = np.dot(A, r_i.T)\n",
    "\n",
    "    return r_i\n",
    "        "
   ]
  },
  {
   "cell_type": "code",
   "execution_count": 3,
   "metadata": {
    "collapsed": false
   },
   "outputs": [
    {
     "name": "stdout",
     "output_type": "stream",
     "text": [
      "Matrix A\n",
      " [[ 0.1   0.1   0.1 ]\n",
      " [ 0.45  0.1   0.1 ]\n",
      " [ 0.45  0.8   0.8 ]] \n",
      "\n",
      "Rank vector r: [ 0.3    0.405  2.295]\n"
     ]
    }
   ],
   "source": [
    "N = 3  # number of nodes\n",
    "bet = 0.7\n",
    "M = np.array([[0,0,0],\n",
    "              [1/2,0,0],\n",
    "              [1/2,1,1]])\n",
    "\n",
    "r = iteraction(N,bet,M,n_iter=10, sumPageRanks=3)\n",
    "print('Rank vector r:', r)\n"
   ]
  },
  {
   "cell_type": "markdown",
   "metadata": {},
   "source": [
    "##Question 2"
   ]
  },
  {
   "cell_type": "markdown",
   "metadata": {},
   "source": [
    "Consider three Web pages with the following links: "
   ]
  },
  {
   "cell_type": "code",
   "execution_count": 4,
   "metadata": {
    "collapsed": false
   },
   "outputs": [
    {
     "data": {
      "text/html": [
       "<img src=\"https://d396qusza40orc.cloudfront.net/mmds/images/otc_pagerank3.gif\"/>"
      ],
      "text/plain": [
       "<IPython.core.display.Image object>"
      ]
     },
     "execution_count": 4,
     "metadata": {},
     "output_type": "execute_result"
    }
   ],
   "source": [
    "Image(url='https://d396qusza40orc.cloudfront.net/mmds/images/otc_pagerank3.gif')"
   ]
  },
  {
   "cell_type": "markdown",
   "metadata": {},
   "source": [
    "Suppose we compute PageRank with β=0.85. Write the equations for the PageRanks a, b, and c of the three pages A, B, and C, respectively. Then, identify in the list below, one of the equations."
   ]
  },
  {
   "cell_type": "code",
   "execution_count": 5,
   "metadata": {
    "collapsed": false
   },
   "outputs": [
    {
     "name": "stdout",
     "output_type": "stream",
     "text": [
      "Matrix A\n",
      " [[ 0.05   0.05   0.9  ]\n",
      " [ 0.475  0.05   0.05 ]\n",
      " [ 0.475  0.9    0.05 ]] \n",
      "\n",
      "Rank vector r: [ 116.33691351   64.44318824  119.21989825]\n"
     ]
    }
   ],
   "source": [
    "N = 3  # number of nodes\n",
    "bet = 0.85\n",
    "M = np.array([[0,0,1],\n",
    "              [1/2,0,0],\n",
    "              [1/2,1,0]])\n",
    "\n",
    "r = iteraction(N,bet,M,n_iter=50, sumPageRanks=300)\n",
    "print('Rank vector r:', r)"
   ]
  },
  {
   "cell_type": "code",
   "execution_count": 6,
   "metadata": {
    "collapsed": false
   },
   "outputs": [
    {
     "name": "stdout",
     "output_type": "stream",
     "text": [
      "116.336913511 \t 128.886376484\n"
     ]
    }
   ],
   "source": [
    "print(r[0], '\\t', r[2]+0.15*r[1])"
   ]
  },
  {
   "cell_type": "code",
   "execution_count": 7,
   "metadata": {
    "collapsed": false
   },
   "outputs": [
    {
     "name": "stdout",
     "output_type": "stream",
     "text": [
      "54.7767100055 \t 84.7767100059\n"
     ]
    }
   ],
   "source": [
    "print(0.85*r[1], '\\t', 0.575*r[0]+0.15*r[2])"
   ]
  },
  {
   "cell_type": "code",
   "execution_count": 8,
   "metadata": {
    "collapsed": false
   },
   "outputs": [
    {
     "name": "stdout",
     "output_type": "stream",
     "text": [
      "113.258903335 \t 113.258903335\n"
     ]
    }
   ],
   "source": [
    "print(0.95*r[2], '\\t', 0.9*r[1]+0.475*r[0])"
   ]
  },
  {
   "cell_type": "code",
   "execution_count": 9,
   "metadata": {
    "collapsed": false
   },
   "outputs": [
    {
     "name": "stdout",
     "output_type": "stream",
     "text": [
      "116.336913511 \t 110.520067835\n"
     ]
    }
   ],
   "source": [
    "print(r[0], '\\t', 0.9*r[2]+0.05*r[1])"
   ]
  },
  {
   "cell_type": "markdown",
   "metadata": {},
   "source": [
    "##Question 3"
   ]
  },
  {
   "cell_type": "markdown",
   "metadata": {},
   "source": [
    "Consider three Web pages with the following links: "
   ]
  },
  {
   "cell_type": "code",
   "execution_count": 10,
   "metadata": {
    "collapsed": false
   },
   "outputs": [
    {
     "data": {
      "text/html": [
       "<img src=\"https://d396qusza40orc.cloudfront.net/mmds/images/otc_pagerank3.gif\"/>"
      ],
      "text/plain": [
       "<IPython.core.display.Image object>"
      ]
     },
     "execution_count": 10,
     "metadata": {},
     "output_type": "execute_result"
    }
   ],
   "source": [
    "Image(url='https://d396qusza40orc.cloudfront.net/mmds/images/otc_pagerank3.gif')"
   ]
  },
  {
   "cell_type": "markdown",
   "metadata": {},
   "source": [
    "Assuming no \"taxation,\" compute the PageRanks a, b, and c of the three pages A, B, and C, using iteration, starting with the \"0th\" iteration where all three pages have rank a = b = c = 1. Compute as far as the 5th iteration, and also determine what the PageRanks are in the limit. Then, identify the true statement from the list below."
   ]
  },
  {
   "cell_type": "code",
   "execution_count": 11,
   "metadata": {
    "collapsed": false
   },
   "outputs": [
    {
     "name": "stdout",
     "output_type": "stream",
     "text": [
      "Matrix A\n",
      " [[ 0.   0.   1. ]\n",
      " [ 0.5  0.   0. ]\n",
      " [ 0.5  1.   0. ]] \n",
      "\n",
      "Rank vector r after iteration 4: [ 1.25  0.5   1.25]\n"
     ]
    }
   ],
   "source": [
    "N = 3  # number of nodes\n",
    "bet = 1\n",
    "M = np.array([[0,0,1],\n",
    "              [1/2,0,0],\n",
    "              [1/2,1,0]])\n",
    "\n",
    "r = iteraction(N,bet,M,n_iter=4, sumPageRanks=3)\n",
    "print('Rank vector r after iteration 4:', r)"
   ]
  },
  {
   "cell_type": "code",
   "execution_count": 12,
   "metadata": {
    "collapsed": false
   },
   "outputs": [
    {
     "name": "stdout",
     "output_type": "stream",
     "text": [
      "Matrix A\n",
      " [[ 0.   0.   1. ]\n",
      " [ 0.5  0.   0. ]\n",
      " [ 0.5  1.   0. ]] \n",
      "\n",
      "Rank vector r after iteration 5: [ 1.25   0.625  1.125]\n"
     ]
    }
   ],
   "source": [
    "r = iteraction(N,bet,M,n_iter=5, sumPageRanks=3)\n",
    "print('Rank vector r after iteration 5:', r)"
   ]
  },
  {
   "cell_type": "markdown",
   "metadata": {},
   "source": [
    "##Question 4"
   ]
  },
  {
   "cell_type": "markdown",
   "metadata": {},
   "source": [
    "Suppose our input data to a map-reduce operation consists of integer values (the keys are not important). The map function takes an integer i and produces the list of pairs (p,i) such that p is a prime divisor of i. For example, map(12) = [(2,12), (3,12)].\n",
    "\n",
    "The reduce function is addition. That is, reduce(p, [i1, i2, ...,ik]) is (p,i1+i2+...+ik).\n",
    "\n",
    "Compute the output, if the input is the set of integers 15, 21, 24, 30, 49. Then, identify, in the list below, one of the pairs in the output."
   ]
  },
  {
   "cell_type": "code",
   "execution_count": 13,
   "metadata": {
    "collapsed": false
   },
   "outputs": [
    {
     "name": "stdout",
     "output_type": "stream",
     "text": [
      "{2: 54, 3: 90, 5: 45, 7: 70}\n"
     ]
    }
   ],
   "source": [
    "from collections import defaultdict\n",
    "input_list = [15,21,24,30,49]\n",
    "def primes(n):\n",
    "    divisors = [ d for d in range(2,n//2+1) if n % d == 0 ]\n",
    "    return [ d for d in divisors if all( d % od != 0 for od in divisors if od != d ) ]\n",
    "\n",
    "#MAP\n",
    "def prime_divisors(i):\n",
    "    result = []\n",
    "    divisors = [ d for d in range(2,i//2+1) if i % d == 0 ]\n",
    "    \n",
    "    def isprime(d):\n",
    "        return all( d % od != 0 for od in divisors if od != d )\n",
    "    \n",
    "    for d in divisors:\n",
    "        if isprime(d):\n",
    "            result.append((d,i))\n",
    "        \n",
    "    return result\n",
    "\n",
    "\n",
    "output_map_list = list(map(prime_divisors, input_list))\n",
    "\n",
    "\n",
    "#REDUCE\n",
    "def _reduce(map_list):\n",
    "    result = defaultdict(list)\n",
    "    for _list in map_list:\n",
    "        for k, v in _list:\n",
    "            result[k].append(v)\n",
    "    \n",
    "    #out_reduce = {k:sum(v) for k in result.keys() for v in result.values()}\n",
    "    out_reduce = {}\n",
    "    for key in result.keys():\n",
    "        out_reduce[key] = sum(result[key])\n",
    "        \n",
    "    return out_reduce\n",
    "\n",
    "print(_reduce(output_map_list))\n"
   ]
  }
 ],
 "metadata": {
  "kernelspec": {
   "display_name": "Python 3",
   "language": "python",
   "name": "python3"
  },
  "language_info": {
   "codemirror_mode": {
    "name": "ipython",
    "version": 3
   },
   "file_extension": ".py",
   "mimetype": "text/x-python",
   "name": "python",
   "nbconvert_exporter": "python",
   "pygments_lexer": "ipython3",
   "version": "3.4.0"
  }
 },
 "nbformat": 4,
 "nbformat_minor": 0
}
