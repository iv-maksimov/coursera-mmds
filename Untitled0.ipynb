{
 "metadata": {
  "name": "",
  "signature": "sha256:f12a6562933a03bbd98eda3d9bf2b563f842de1724f4633afdb66e1d04a169bc"
 },
 "nbformat": 3,
 "nbformat_minor": 0,
 "worksheets": [
  {
   "cells": [
    {
     "cell_type": "code",
     "collapsed": false,
     "input": [
      "import numpy as np"
     ],
     "language": "python",
     "metadata": {},
     "outputs": [],
     "prompt_number": 1
    },
    {
     "cell_type": "markdown",
     "metadata": {},
     "source": [
      "Perform a minhashing of the data, with the order of rows: R4, R6, R1, R3, R5, R2. Which of the following is the correct minhash value of the stated column? Note: we give the minhash value in terms of the original name of the row, rather than the order of the row in the permutation. These two schemes are equivalent, since we only care whether hash values for two columns are equal, not what their actual values are."
     ]
    },
    {
     "cell_type": "markdown",
     "metadata": {},
     "source": [
      "#Question 6\n",
      "Suppose we want to assign points to whichever of the points (0,0) or (100,40) is nearer. Depending on whether we use the L1 or L2 norm, a point (x,y) could be clustered with a different one of these two points. For this problem, you should work out the conditions under which a point will be assigned to (0,0) when the L1 norm is used, but assigned to (100,40) when the L2 norm is used. Identify one of those points from the list below."
     ]
    },
    {
     "cell_type": "code",
     "collapsed": false,
     "input": [
      "x1 = [0,0]\n",
      "x2 = [100,40]\n",
      "\n",
      "points = {'a':[57,5], 'b':[50,18], 'c':[63,8], 'd':[66,5]}\n",
      "\n",
      "def L1_dist(p1,p2):\n",
      "    return np.abs(p1[0]-p2[0]) + np.abs(p1[1]-p2[1])\n",
      "\n",
      "def L2_dist(p1,p2):\n",
      "    return np.sqrt((p1[0]-p2[0])^2 + (p1[1]-p2[1])^2)\n",
      "\n",
      "for point in points.keys():\n",
      "    dist = []\n",
      "    L1_0_0 = L1_dist(points[point],x1)\n",
      "    L2_0_0 = L2_dist(points[point],x1)\n",
      "    L1_100_40 = L1_dist(points[point],x2)\n",
      "    L2_100_40 = L2_dist(points[point],x2)\n",
      "    \n",
      "    if L1_0_0 < L2_0_0:\n",
      "        L_0_0 = 'L1'\n",
      "    else:\n",
      "        L_0_0 = 'L2'\n",
      "        \n",
      "    if L1_100_40 < L2_100_40:\n",
      "        L_100_40 = 'L1'\n",
      "    else:\n",
      "        L_100_40 = 'L2'        \n",
      "        \n",
      "    print('Point {}:{}. Min to (0,0) - {}. Min to (100,40) - {}'.format(point, points[point], L_0_0, L_100_40))\n"
     ],
     "language": "python",
     "metadata": {},
     "outputs": [
      {
       "output_type": "stream",
       "stream": "stdout",
       "text": [
        "Point a:[57, 5]. Min to (0,0) - L2. Min to (100,40) - L2\n",
        "Point c:[63, 8]. Min to (0,0) - L2. Min to (100,40) - L2\n",
        "Point b:[50, 18]. Min to (0,0) - L2. Min to (100,40) - L2\n",
        "Point d:[66, 5]. Min to (0,0) - L2. Min to (100,40) - L2\n"
       ]
      }
     ],
     "prompt_number": 12
    },
    {
     "cell_type": "code",
     "collapsed": false,
     "input": [
      "points.items()"
     ],
     "language": "python",
     "metadata": {},
     "outputs": [
      {
       "metadata": {},
       "output_type": "pyout",
       "prompt_number": 6,
       "text": [
        "dict_items([('a', [57, 5]), ('c', [63, 8]), ('b', [50, 18]), ('d', [66, 5])])"
       ]
      }
     ],
     "prompt_number": 6
    },
    {
     "cell_type": "code",
     "collapsed": false,
     "input": [],
     "language": "python",
     "metadata": {},
     "outputs": []
    }
   ],
   "metadata": {}
  }
 ]
}