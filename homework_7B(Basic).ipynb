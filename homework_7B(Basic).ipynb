{
 "metadata": {
  "name": "",
  "signature": "sha256:a4b918a71e4a4851ddf44b7650940e93bc4087189b573c71a881b32c5d40b503"
 },
 "nbformat": 3,
 "nbformat_minor": 0,
 "worksheets": [
  {
   "cells": [
    {
     "cell_type": "markdown",
     "metadata": {},
     "source": [
      "#Question 1\n",
      "Compute the Topic-Specific PageRank for the following link topology. Assume that pages selected for the teleport set are nodes 1 and 2 and that in the teleport set, the weight assigned for node 1 is twice that of node 2. Assume further that the teleport probability, (1 - beta), is 0.3. Which of the following statements is correct?"
     ]
    },
    {
     "cell_type": "code",
     "collapsed": false,
     "input": [
      "from IPython.display import Image\n",
      "Image(url='https://d396qusza40orc.cloudfront.net/mmds/images/otc_pagerank4.gif')"
     ],
     "language": "python",
     "metadata": {},
     "outputs": [
      {
       "html": [
        "<img src=\"https://d396qusza40orc.cloudfront.net/mmds/images/otc_pagerank4.gif\"/>"
       ],
       "metadata": {},
       "output_type": "pyout",
       "prompt_number": 1,
       "text": [
        "<IPython.core.display.Image at 0x41c6400>"
       ]
      }
     ],
     "prompt_number": 1
    },
    {
     "cell_type": "markdown",
     "metadata": {},
     "source": [
      "* TSPR(4) = .6680\n",
      "* TSPR(2) = .8998\n",
      "* TSPR(3) = .1092\n",
      "* TSPR(2) = .2252"
     ]
    },
    {
     "cell_type": "code",
     "collapsed": false,
     "input": [
      "import numpy as np\n",
      "def iteraction(N, bet, M, S, n_iter=50, sumPageRanks=1):\n",
      "    \n",
      "    A = bet * M + (1 - bet) * S\n",
      "    r_i = sumPageRanks/N * np.ones(N)\n",
      "    print('Matrix A\\n', A, '\\n')\n",
      "    eps = 0.0001 # threshold\n",
      "    for n in range(n_iter):               \n",
      "        r_i = np.dot(A, r_i.T)\n",
      "\n",
      "    return r_i"
     ],
     "language": "python",
     "metadata": {},
     "outputs": [],
     "prompt_number": 4
    },
    {
     "cell_type": "code",
     "collapsed": false,
     "input": [
      "N = 4\n",
      "\n",
      "bet = 0.7\n",
      "\n",
      "M = np.array([[0,   1, 0, 0],\n",
      "     [1/2, 0, 0, 0],\n",
      "     [1/2, 0, 0, 1],\n",
      "     [0,   0, 1, 0]])\n",
      "\n",
      "S = np.array([[2/3,2/3,2/3,2/3],\n",
      "     [1/3,1/3,1/3,1/3],\n",
      "     [0,0,0,0],\n",
      "     [0,0,0,0]])\n",
      "\n",
      "r = iteraction(N,bet,M,S,n_iter=50, sumPageRanks=1)\n",
      "print('Rank vector r:', r)"
     ],
     "language": "python",
     "metadata": {},
     "outputs": [
      {
       "output_type": "stream",
       "stream": "stdout",
       "text": [
        "Matrix A\n",
        " [[ 0.2   0.9   0.2   0.2 ]\n",
        " [ 0.45  0.1   0.1   0.1 ]\n",
        " [ 0.35  0.    0.    0.7 ]\n",
        " [ 0.    0.    0.7   0.  ]] \n",
        "\n",
        "Rank vector r: [ 0.35761589  0.22516556  0.24542267  0.17179587]\n"
       ]
      }
     ],
     "prompt_number": 6
    },
    {
     "cell_type": "markdown",
     "metadata": {},
     "source": [
      "#Question 2\n",
      "The spam-farm architecture described in Section 5.4.1 suffers from the problem that the target page has many links --- one to each supporting page. To avoid that problem, the spammer could use the architecture shown below:"
     ]
    },
    {
     "cell_type": "code",
     "collapsed": false,
     "input": [
      "Image(url='https://d396qusza40orc.cloudfront.net/mmds/images/otc_spamfarm1.gif')"
     ],
     "language": "python",
     "metadata": {},
     "outputs": [
      {
       "html": [
        "<img src=\"https://d396qusza40orc.cloudfront.net/mmds/images/otc_spamfarm1.gif\"/>"
       ],
       "metadata": {},
       "output_type": "pyout",
       "prompt_number": 7,
       "text": [
        "<IPython.core.display.Image at 0x41c6be0>"
       ]
      }
     ],
     "prompt_number": 7
    },
    {
     "cell_type": "markdown",
     "metadata": {},
     "source": [
      "There, k \"second-tier\" nodes act as intermediaries. The target page t has only to link to the k second-tier pages, and each of those pages links to m/k of the m supporting pages. Each of the supporting pages links only to t (although most of these links are not shown). Suppose the taxation parameter is \u03b2 = 0.85, and x is the amount of PageRank supplied from outside to the target page. Let n be the total number of pages in the Web. Finally, let y be the PageRank of target page t. If we compute the formula for y in terms of k, m, and n, we get a formula with the form\n",
      "\n",
      "y = ax + bm/n + ck/n\n",
      "Note: To arrive at this form, it is necessary at the last step to drop a low-order term that is a fraction of 1/n. Determine coefficients a, b, and c, remembering that \u03b2 is fixed at 0.85. Then, identify the value, correct to two decimal places, for one of these coefficients."
     ]
    },
    {
     "cell_type": "markdown",
     "metadata": {},
     "source": [
      "##Answer\n",
      "Let w be the PageRank of each of the second-tier pages, and let z be the PageRank of each of the supporting pages. Then the equations relating y, w, and z are:\n",
      "y = x + \u03b2zm + (1-\u03b2)/n\n",
      "w = \u03b2y/k + (1-\u03b2)/n\n",
      "z = \u03b2kw/m + (1-\u03b2)/n\n",
      "\n",
      "The first equation says that the PageRank of t is the external contribution x, plus \u03b2z (the amount of PageRank not taxed) times the number of supporting pages, plus (1-\u03b2)/n, which is the share of \"tax\" that every page gets. The second equation says that each second-tier page gets 1/k-th of the untaxed PageRank of t, plus its share of the tax. The third equation says each supporting page gets 1 part in m/k of the untaxed PageRank of the second-tier page that reaches that supporting page, plus its share of the tax.\n",
      "\n",
      "Begin by substituting for z in the first equation:\n",
      "\n",
      "y = x + \u03b22kw + \u03b2(1-\u03b2)m/n + (1-\u03b2)/n\n",
      "\n",
      "Now, substitute for w in the above:\n",
      "\n",
      "y = x + \u03b23y + \u03b2(1-\u03b2)m/n + \u03b22(1-\u03b2)k/n + (1-\u03b2)/n\n",
      "\n",
      "Neglect the last term (1-\u03b2)/n, per the directions in the statement of the problem. If we move the term \u03b23y to the left, and note that \u03b23 = (1-\u03b2)(1+\u03b2+&beta2), we get\n",
      "\n",
      "y = x/(1-\u03b23) + (\u03b2/(1+\u03b2+&beta2))(m/n) + (\u03b2/(1+\u03b2+&beta2))(k/n)"
     ]
    },
    {
     "cell_type": "code",
     "collapsed": false,
     "input": [
      "bet = 0.85\n",
      "print('a = {}, b = {}, c = {}'.format(1/(1-bet**3), bet/(1+bet+bet**2), bet/(1+bet+bet**2)))"
     ],
     "language": "python",
     "metadata": {},
     "outputs": [
      {
       "output_type": "stream",
       "stream": "stdout",
       "text": [
        "a = 2.591512795594428, b = 0.3304178814382896, c = 0.3304178814382896\n"
       ]
      }
     ],
     "prompt_number": 11
    },
    {
     "cell_type": "code",
     "collapsed": false,
     "input": [],
     "language": "python",
     "metadata": {},
     "outputs": []
    }
   ],
   "metadata": {}
  }
 ]
}