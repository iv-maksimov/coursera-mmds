{
 "metadata": {
  "name": "",
  "signature": "sha256:223e16a5739d520b85f07a9b0522aeaa98b415d4bb5ba47a8f6b8fddf7d10941"
 },
 "nbformat": 3,
 "nbformat_minor": 0,
 "worksheets": [
  {
   "cells": [
    {
     "cell_type": "markdown",
     "metadata": {},
     "source": [
      "#Question 1\n",
      "For the following graph:"
     ]
    },
    {
     "cell_type": "raw",
     "metadata": {},
     "source": [
      "   C -- D -- E\n",
      " / |    |    | \\\n",
      "A  |    |    |  B\n",
      " \\ |    |    | /\n",
      "   F -- G -- H"
     ]
    },
    {
     "cell_type": "markdown",
     "metadata": {},
     "source": [
      "Write the adjacency matrix A, the degree matrix D, and the Laplacian matrix L. For each, find the sum of all entries and the number of nonzero entries. Then identify the true statement from the list below.\n",
      "* The sum of the entries of L is 44.\n",
      "* L has 8 nonzero entries.\n",
      "* D has 16 nonzero entries.\n",
      "* L has 30 nonzero entries. "
     ]
    },
    {
     "cell_type": "code",
     "collapsed": false,
     "input": [
      "import numpy as np\n",
      "from matplotlib import pyplot as plt\n",
      "%matplotlib inline"
     ],
     "language": "python",
     "metadata": {},
     "outputs": [],
     "prompt_number": 2
    },
    {
     "cell_type": "code",
     "collapsed": false,
     "input": [
      "A = np.array([[0, 0, 1, 0, 0, 1, 0, 0],\n",
      "              [0, 0, 0, 0, 1, 0, 0, 1],\n",
      "              [1, 0, 0, 1, 0, 1, 0, 0],\n",
      "              [0, 0, 1, 0, 1, 0, 1, 0],\n",
      "              [0, 1, 0, 1, 0, 0, 0, 1],\n",
      "              [1, 0, 1, 0, 0, 0, 1, 0],\n",
      "              [0, 0, 0, 1, 0, 1, 0, 1],\n",
      "              [0, 1, 0, 0, 1, 0, 1, 0]])\n",
      "\n",
      "D = np.diag([2,2,3,3,3,3,3,3])\n",
      "\n",
      "L = D - A\n",
      "\n",
      "print(L)"
     ],
     "language": "python",
     "metadata": {},
     "outputs": [
      {
       "output_type": "stream",
       "stream": "stdout",
       "text": [
        "[[ 2  0 -1  0  0 -1  0  0]\n",
        " [ 0  2  0  0 -1  0  0 -1]\n",
        " [-1  0  3 -1  0 -1  0  0]\n",
        " [ 0  0 -1  3 -1  0 -1  0]\n",
        " [ 0 -1  0 -1  3  0  0 -1]\n",
        " [-1  0 -1  0  0  3 -1  0]\n",
        " [ 0  0  0 -1  0 -1  3 -1]\n",
        " [ 0 -1  0  0 -1  0 -1  3]]\n"
       ]
      }
     ],
     "prompt_number": 3
    },
    {
     "cell_type": "code",
     "collapsed": false,
     "input": [
      "print('The sum of the entries of L is {}.'.format(np.sum(L)))\n",
      "print('A has {} nonzero entries.'.format(np.count_nonzero(A)))\n",
      "print('D has {} nonzero entries.'.format(np.count_nonzero(D)))\n",
      "print('L has {} nonzero entries.'.format(np.count_nonzero(L)))"
     ],
     "language": "python",
     "metadata": {},
     "outputs": [
      {
       "output_type": "stream",
       "stream": "stdout",
       "text": [
        "The sum of the entries of L is 0.\n",
        "A has 22 nonzero entries.\n",
        "D has 8 nonzero entries.\n",
        "L has 30 nonzero entries.\n"
       ]
      }
     ],
     "prompt_number": 4
    },
    {
     "cell_type": "markdown",
     "metadata": {},
     "source": [
      "#Question 2\n",
      "You are given the following graph."
     ]
    },
    {
     "cell_type": "raw",
     "metadata": {},
     "source": [
      "   2 ----6\n",
      " /  \\    |\n",
      "1    4   |\n",
      " \\  /  \\ |\n",
      "  3      5 "
     ]
    },
    {
     "cell_type": "markdown",
     "metadata": {},
     "source": [
      "The goal is to find two clusters in this graph using Spectral Clustering on the Laplacian matrix. Compute the Laplacian of this graph. Then compute the second eigen vector of the Laplacian (the one corresponding to the second smallest eigenvalue).\n",
      "\n",
      "To cluster the points, we decide to split at the mean value. We say that a node is a tie if its value in the eigen-vector is exactly equal to the mean value. Let's assume that if a point is a tie, we choose its cluster at random. Identify the true statement from the list below.\n",
      "* 2 is a tie\n",
      "* 3 is a tie\n",
      "* 1 and 6 are in the same cluster\n",
      "* 2 and 5 are in different clusters"
     ]
    },
    {
     "cell_type": "code",
     "collapsed": false,
     "input": [
      "# Matrix representation of the graph\n",
      "A = np.array([[0, 1, 1, 0, 0, 0],\n",
      "              [1, 0, 0, 1, 0, 1],\n",
      "              [1, 0, 0, 1, 0, 0],\n",
      "              [0, 1, 1, 0, 1, 0],\n",
      "              [0, 0, 0, 1, 0, 1],\n",
      "              [0, 1, 0, 0, 1, 0]])    \n",
      "\n",
      "D = np.array([[2, 0, 0, 0, 0, 0],\n",
      "              [0, 3, 0, 0, 0, 0],\n",
      "              [0, 0, 2, 0, 0, 0],\n",
      "              [0, 0, 0, 3, 0, 0],\n",
      "              [0, 0, 0, 0, 2, 0],\n",
      "              [0, 0, 0, 0, 0, 2]])\n",
      "\n",
      "L = D - A\n",
      "L"
     ],
     "language": "python",
     "metadata": {},
     "outputs": [
      {
       "metadata": {},
       "output_type": "pyout",
       "prompt_number": 5,
       "text": [
        "array([[ 2, -1, -1,  0,  0,  0],\n",
        "       [-1,  3,  0, -1,  0, -1],\n",
        "       [-1,  0,  2, -1,  0,  0],\n",
        "       [ 0, -1, -1,  3, -1,  0],\n",
        "       [ 0,  0,  0, -1,  2, -1],\n",
        "       [ 0, -1,  0,  0, -1,  2]])"
       ]
      }
     ],
     "prompt_number": 5
    },
    {
     "cell_type": "code",
     "collapsed": false,
     "input": [
      "# Eigenvalues and eigenvectors of the matrix\n",
      "_lambda, X = np.linalg.eigh(L)\n",
      "_lambda = _lambda.round(decimals=0)\n",
      "X = X.round(decimals=1)"
     ],
     "language": "python",
     "metadata": {},
     "outputs": [],
     "prompt_number": 6
    },
    {
     "cell_type": "code",
     "collapsed": false,
     "input": [
      "# Map vertices to corresponding components of _lambda_2\n",
      "# Sort components of reduced 1-dimensional vector\n",
      "_lambda_2 = _lambda.argsort()[1]\n",
      "np.mean(X[:,_lambda_2])"
     ],
     "language": "python",
     "metadata": {},
     "outputs": [
      {
       "metadata": {},
       "output_type": "pyout",
       "prompt_number": 7,
       "text": [
        "0.0"
       ]
      }
     ],
     "prompt_number": 7
    },
    {
     "cell_type": "code",
     "collapsed": false,
     "input": [
      "plt.plot(range(1,7),X[:,_lambda_2])"
     ],
     "language": "python",
     "metadata": {},
     "outputs": [
      {
       "metadata": {},
       "output_type": "pyout",
       "prompt_number": 8,
       "text": [
        "[<matplotlib.lines.Line2D at 0xb031a60c>]"
       ]
      },
      {
       "metadata": {},
       "output_type": "display_data",
       "png": "[encoded data removed]",
       "text": [
        "<matplotlib.figure.Figure at 0xb6555f6c>"
       ]
      }
     ],
     "prompt_number": 8
    },
    {
     "cell_type": "markdown",
     "metadata": {},
     "source": [
      "#Question 3\n",
      "We wish to estimate the surprise number (2nd moment) of a data stream, using the method of AMS. It happens that our stream consists of ten different values, which we'll call 1, 2,..., 10, that cycle repeatedly. That is, at timestamps 1 through 10, the element of the stream equals the timestamp, at timestamps 11 through 20, the element is the timestamp minus 10, and so on. It is now timestamp 75, and a 5 has just been read from the stream. As a start, you should calculate the surprise number for this time.\n",
      "\n",
      "For our estimate of the surprise number, we shall choose three timestamps at random, and estimate the surprise number from each, using the AMS approach (length of the stream times 2m-1, where m is the number of occurrences of the element of the stream at that timestamp, considering all times from that timestamp on, to the current time). Then, our estimate will be the median of the three resulting values.\n",
      "\n",
      "You should discover the simple rules that determine the estimate derived from any given timestamp and from any set of three timestamps. Then, identify from the list below the set of three \"random\" timestamps that give the closest estimate.\n",
      "\n",
      "* {14, 35, 42}\n",
      "* {3, 45, 72}\n",
      "* {25, 34, 47}\n",
      "* {31, 32, 44} \n"
     ]
    },
    {
     "cell_type": "code",
     "collapsed": false,
     "input": [
      "def generator(n):\n",
      "    if n%10 == 0:\n",
      "        return 10\n",
      "    else:\n",
      "        return n%10"
     ],
     "language": "python",
     "metadata": {},
     "outputs": [],
     "prompt_number": 9
    },
    {
     "cell_type": "code",
     "collapsed": false,
     "input": [
      "from scipy.stats import itemfreq\n",
      "\n",
      "len_n = 75\n",
      "series = np.array([generator(n) for n in range(1,len_n+1)])\n",
      "surprize = np.sum(itemfreq(series)[:,1]**2)\n",
      "\n",
      "print('Second moment series is {}'.format(surprize))"
     ],
     "language": "python",
     "metadata": {},
     "outputs": [
      {
       "output_type": "stream",
       "stream": "stdout",
       "text": [
        "Second moment series is 565\n"
       ]
      }
     ],
     "prompt_number": 10
    },
    {
     "cell_type": "code",
     "collapsed": false,
     "input": [
      "from collections import defaultdict\n",
      "\n",
      "A1 = (25, 34, 47)\n",
      "A2 = (20, 49, 53)\n",
      "A3 = (22, 42, 62)\n",
      "A4 = (31, 32, 44)\n",
      "\n",
      "def AMS(series, points):\n",
      "    X = defaultdict(int)\n",
      "    \n",
      "    X[series[points[0]-1]] += 1\n",
      "    for i in range(points[0]+1, points[1]):\n",
      "        if series[i-1] in X.keys():\n",
      "            X[series[i-1]] += 1\n",
      "            \n",
      "    #if series[points[1]-1] not in X.keys():        \n",
      "    X[series[points[1]-1]] += 1\n",
      "    for i in range(points[1]+1, points[2]):\n",
      "        if series[i-1] in X.keys():\n",
      "            X[series[i-1]] += 1 \n",
      "            \n",
      "    #if series[points[2]-1] not in X.keys():  \n",
      "    X[series[points[2]-1]] += 1\n",
      "    for i in range(points[2]+1, len(series)):\n",
      "        if series[i-1] in X.keys():\n",
      "            X[series[i-1]] += 1 \n",
      "    \n",
      "    second_moment_random_var = []\n",
      "    for key in X.keys():\n",
      "        if key != 'default':\n",
      "            second_moment_random_var.append(len(series)*(2*X[key]-1))\n",
      "    #print(X)\n",
      "    return np.mean(second_moment_random_var)     \n",
      "\n"
     ],
     "language": "python",
     "metadata": {},
     "outputs": [],
     "prompt_number": 11
    },
    {
     "cell_type": "code",
     "collapsed": false,
     "input": [
      "a1 = AMS(series, A1)\n",
      "a2 = AMS(series, A2)\n",
      "a3 = AMS(series, A3)\n",
      "a4 = AMS(series, A4)\n",
      "print('Second moment for point {} is {}. Distance - {}'.format(A1, a1, np.abs(surprize-a1)))\n",
      "print('Second moment for point {} is {}. Distance - {}'.format(A2, a2, np.abs(surprize-a2)))\n",
      "print('Second moment for point {} is {}. Distance - {}'.format(A3, a3, np.abs(surprize-a3)))\n",
      "print('Second moment for point {} is {}. Distance - {}'.format(A4, a4, np.abs(surprize-a4)))"
     ],
     "language": "python",
     "metadata": {},
     "outputs": [
      {
       "output_type": "stream",
       "stream": "stdout",
       "text": [
        "Second moment for point (25, 34, 47) is 575.0. Distance - 10.0\n",
        "Second moment for point (20, 49, 53) is 525.0. Distance - 40.0\n",
        "Second moment for point (22, 42, 62) is 825.0. Distance - 260.0\n",
        "Second moment for point (31, 32, 44) is 625.0. Distance - 60.0\n"
       ]
      }
     ],
     "prompt_number": 12
    },
    {
     "cell_type": "code",
     "collapsed": false,
     "input": [
      "\n",
      "def cal_supprise(current_t = 75):\n",
      "    common = ( current_t / 10 ) % 10\n",
      "    more_set = ( current_t ) % 10\n",
      "\n",
      "    less_set = 10 - more_set\n",
      "    \n",
      "    return more_set * (common+1)**2 + less_set * (common**2)\n",
      "    \n",
      "    \n",
      "\n",
      "def AMS_2(time_list, current_t = 75):\n",
      "    \n",
      "    estimates = []\n",
      "    for t in time_list:\n",
      "        delta = current_t - t\n",
      "        \n",
      "        elem = t % 10\n",
      "        threshold = current_t % 10\n",
      "        \n",
      "        common = (delta / 10) % 10\n",
      "\n",
      "        if elem > threshold:\n",
      "            estimates.append( ( 2*common - 1)*current_t )\n",
      "        else:\n",
      "            estimates.append( ( 2*common + 1)*current_t )\n",
      "\n",
      "    return np.mean(estimates)\n",
      "\n",
      "\n",
      "print (AMS_2([25, 34, 47])-surprize)\n",
      "print (AMS_2([20, 49, 53])-surprize)\n",
      "print (AMS_2([22, 42, 62])-surprize)\n",
      "print (AMS_2([31, 32, 44])-surprize)"
     ],
     "language": "python",
     "metadata": {},
     "outputs": [
      {
       "output_type": "stream",
       "stream": "stdout",
       "text": [
        "55.0\n",
        "-25.0\n",
        "5.0\n",
        "100.0\n"
       ]
      }
     ],
     "prompt_number": 13
    },
    {
     "cell_type": "markdown",
     "metadata": {},
     "source": [
      "#Question 4\n",
      "We wish to use the Flagolet-Martin lgorithm of Section 4.4 to count the number of distinct elements in a stream. Suppose that there ten possible elements, 1, 2,..., 10, that could appear in the stream, but only four of them have actually appeared. To make our estimate of the count of distinct elements, we hash each element to a 4-bit binary number. The element x is hashed to 3x + 7 (modulo 11). For example, element 8 hashes to 3*8+7 = 31, which is 9 modulo 11 (i.e., the remainder of 31/11 is 9). Thus, the 4-bit string for element 8 is 1001.\n",
      "\n",
      "A set of four of the elements 1 through 10 could give an estimate that is exact (if the estimate is 4), or too high, or too low. You should figure out under what circumstances a set of four elements falls into each of those categories. Then, identify in the list below the set of four elements that gives the exactly correct estimate.\n",
      "\n",
      "* {1, 3, 6, 8}\n",
      "* {1, 2, 3, 9}\n",
      "* {2, 3, 6, 9}\n",
      "* { 3, 7, 8, 10} \n",
      "\n"
     ]
    },
    {
     "cell_type": "code",
     "collapsed": false,
     "input": [
      "A1 = (1, 4, 7, 9)\n",
      "A2 = (4, 6, 9, 10)\n",
      "A3 = (4, 5, 6, 10)\n",
      "A4 = (1, 6, 7, 10)\n",
      "\n",
      "A = (A1, A2, A3, A4)\n",
      "\n",
      "def hash_elem(n):\n",
      "    b_hash_element = bin((3*n + 7) % 11)[2:]\n",
      "    b_hash_element = '0' * (4 - len(b_hash_element)) + b_hash_element\n",
      "    return b_hash_element\n",
      "    \n",
      "def countZerosInBinary(bnum):\n",
      "    return len(bnum) - len(bnum.rstrip('0'))\n",
      "    \n",
      "def FlagoletMatrtin(hash_list):\n",
      "    maxnum = 0\n",
      "    for val in hash_list:\n",
      "        num = countZerosInBinary(val)\n",
      "        if num > maxnum:\n",
      "            maxnum = num\n",
      "    return 2**maxnum\n",
      "    \n",
      "print(FlagoletMatrtin(([hash_elem(x) for x in [1,3,6,8]]))) \n",
      "    \n",
      "_hash = {}\n",
      "for i in range(1,11):\n",
      "    _hash[i] = hash_elem(i)\n",
      "    \n",
      "print(_hash)\n",
      "for Ai in A:\n",
      "\n",
      "    print(Ai, '\\t', FlagoletMatrtin(([hash_elem(x) for x in Ai])))\n",
      "        "
     ],
     "language": "python",
     "metadata": {},
     "outputs": [
      {
       "output_type": "stream",
       "stream": "stdout",
       "text": [
        "2\n",
        "{1: '1010', 2: '0010', 3: '0101', 4: '1000', 5: '0000', 6: '0011', 7: '0110', 8: '1001', 9: '0001', 10: '0100'}\n",
        "(1, 4, 7, 9) \t 8\n",
        "(4, 6, 9, 10) \t 8\n",
        "(4, 5, 6, 10) \t 16\n",
        "(1, 6, 7, 10) \t 4\n"
       ]
      }
     ],
     "prompt_number": 14
    },
    {
     "cell_type": "markdown",
     "metadata": {},
     "source": [
      "#Question 5\n",
      "Suppose we are using the DGIM algorithm of Section 4.6.2 to estimate the number of 1's in suffixes of a sliding window of length 40. The current timestamp is 100, and we have the following buckets stored:\n",
      "\n",
      " \n",
      "End Time \t100 \t98 \t95 \t92 \t87 \t80 \t65\n",
      "\n",
      "Size \t1 \t1 \t2 \t2 \t4 \t8 \t8\n",
      "\n",
      "Note: we are showing timestamps as absolute values, rather than modulo the window size, as DGIM would do.\n",
      "\n",
      "Suppose that at times 101 through 105, 1's appear in the stream. Compute the set of buckets that would exist in the system at time 105. Then identify one such bucket from the list below. Buckets are represented by pairs (end-time, size)."
     ]
    },
    {
     "cell_type": "raw",
     "metadata": {},
     "source": [
      "step 1:\n",
      "    101 100 95 87 80 65\n",
      "    1   2   4  4  8  8\n",
      "step 2:\n",
      "    102 101 100 95 87 80 65\n",
      "    1   1   2   4  4  8  8\n",
      "step 3:\n",
      "    103 102 100 95 87 80 65\n",
      "    1   2   2   4  4  8  8\n",
      "step 4:\n",
      "    104 103 102 100 95 87 80 65\n",
      "    1   1   2   2   4  4  8  8\n",
      "step 5:\n",
      "    105 104 102 95 80\n",
      "    1   2   4   8  8 "
     ]
    },
    {
     "cell_type": "code",
     "collapsed": false,
     "input": [],
     "language": "python",
     "metadata": {},
     "outputs": [],
     "prompt_number": 14
    }
   ],
   "metadata": {}
  }
 ]
}