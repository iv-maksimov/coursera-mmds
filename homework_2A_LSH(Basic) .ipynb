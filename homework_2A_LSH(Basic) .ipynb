{
 "metadata": {
  "name": "",
  "signature": "sha256:0b3814384d958638a6eea413fb2eff260979dc624bc5634b687cc26f70ea97fd"
 },
 "nbformat": 3,
 "nbformat_minor": 0,
 "worksheets": [
  {
   "cells": [
    {
     "cell_type": "code",
     "collapsed": false,
     "input": [
      "import numpy as np"
     ],
     "language": "python",
     "metadata": {},
     "outputs": [],
     "prompt_number": 1
    },
    {
     "cell_type": "markdown",
     "metadata": {},
     "source": [
      "##Question 1\n",
      "The edit distance is the minimum number of character insertions and character deletions required to turn one string into another. Compute the edit distance between each pair of the strings he, she, his, and hers. Then, identify which of the following is a true statement about the number of pairs at a certain edit distance."
     ]
    },
    {
     "cell_type": "code",
     "collapsed": false,
     "input": [
      "strings = ['he', 'she', 'his', 'hers']\n",
      "\n",
      "def edit_distance(s,t):\n",
      "    s = ' ' + s\n",
      "    t = ' ' + t\n",
      "    d = {}\n",
      "    S = len(s)\n",
      "    T = len(t)\n",
      "    for i in range(S):\n",
      "        d[i, 0] = i\n",
      "    for j in range (T):\n",
      "        d[0, j] = j\n",
      "    for j in range(1,T):\n",
      "        for i in range(1,S):\n",
      "            if s[i] == t[j]:\n",
      "                d[i, j] = d[i-1, j-1]\n",
      "            else:\n",
      "                d[i, j] = min(d[i-1, j] + 1, d[i, j-1] + 1, d[i-1, j-1] + 1)\n",
      "    return d[S-1, T-1]\n",
      "\n",
      "dict_dist = {}\n",
      "for i, string1 in enumerate(strings):\n",
      "    for j, string2 in enumerate(strings[i+1:]):\n",
      "        dist = edit_distance(string1, string2)\n",
      "        print(string1, string2, '\\tedit dist = {}'.format(dist))\n",
      "        if dist in dict_dist.keys():\n",
      "            dict_dist[dist] +=1\n",
      "        else:\n",
      "            dict_dist[dist] = 1\n",
      "print(dict_dist)"
     ],
     "language": "python",
     "metadata": {},
     "outputs": [
      {
       "output_type": "stream",
       "stream": "stdout",
       "text": [
        "he she \tedit dist = 1\n",
        "he his \tedit dist = 2\n",
        "he hers \tedit dist = 2\n",
        "she his \tedit dist = 3\n",
        "she hers \tedit dist = 3\n",
        "his hers \tedit dist = 2\n",
        "{1: 1, 2: 3, 3: 2}\n"
       ]
      }
     ],
     "prompt_number": 4
    },
    {
     "cell_type": "markdown",
     "metadata": {},
     "source": [
      "#Question 2\n",
      "Consider the following matrix: \n",
      "\n",
      "|  |C1   | C2| C3| C4|\n",
      "|--|-----|---|---|---|\n",
      "|R1| \t0| \t1| \t1| \t0|\n",
      "|R2| \t1| \t0| \t1| \t1|\n",
      "|R3| \t0| \t1| \t0| \t1|\n",
      "|R4| \t0| \t0| \t1| \t0|\n",
      "|R5| \t1| \t0| \t1| \t0|\n",
      "|R6| \t0| \t1| \t0| \t0|\n",
      "\n",
      "Perform a minhashing of the data, with the order of rows: R4, R6, R1, R3, R5, R2. Which of the following is the correct minhash value of the stated column? Note: we give the minhash value in terms of the original name of the row, rather than the order of the row in the permutation. These two schemes are equivalent, since we only care whether hash values for two columns are equal, not what their actual values are.\n",
      "\n",
      "* The minhash value for C1 is R5\n",
      "* The minhash value for C4 is R2\n",
      "* The minhash value for C1 is R2\n",
      "* The minhash value for C2 is R1\n"
     ]
    },
    {
     "cell_type": "code",
     "collapsed": false,
     "input": [
      "matrix = [\n",
      "        [0, 1, 1, 0],\n",
      "        [1, 0, 1, 1],\n",
      "        [0, 1, 0, 1],\n",
      "        [0, 0, 1, 0],\n",
      "        [1, 0, 1, 0],\n",
      "        [0, 1, 0, 0],]\n",
      "\n",
      "row_names = ['R4', 'R6', 'R1', 'R3', 'R5', 'R2']\n",
      "\n",
      "def signature(data):\n",
      "    result = [0, 0, 0, 0]\n",
      "    for row in row_names:\n",
      "        for index_col, col in enumerate(matrix[int(row[1])-1]):\n",
      "            if col == 1 and result[index_col] == 0:\n",
      "                result[index_col] = row\n",
      "    \n",
      "    return result\n",
      "\n",
      "sign = signature(matrix)\n",
      "\n",
      "print(sign)\n"
     ],
     "language": "python",
     "metadata": {},
     "outputs": [
      {
       "output_type": "stream",
       "stream": "stdout",
       "text": [
        "['R5', 'R6', 'R4', 'R3']\n"
       ]
      }
     ],
     "prompt_number": 42
    },
    {
     "cell_type": "markdown",
     "metadata": {},
     "source": [
      "##Question 3\n",
      "Here is a matrix representing the signatures of seven columns, C1 through C7. \n",
      "<center><table bgcolor=\"floralwhite\" border=\"5\">\n",
      "<tr>\n",
      "<th>C1 </th>\n",
      "<th>C2 </th>\n",
      "<th>C3 </th>\n",
      "<th>C4 </th>\n",
      "<th>C5 </th>\n",
      "<th>C6 </th>\n",
      "<th>C7 </th>\n",
      "</tr>\n",
      "<tr>\n",
      "<td>1 </td>\n",
      "<td>2 </td>\n",
      "<td>1 </td>\n",
      "<td>1 </td>\n",
      "<td>2 </td>\n",
      "<td>5 </td>\n",
      "<td>4 </td>\n",
      "</tr>\n",
      "<tr>\n",
      "<td>2 </td>\n",
      "<td>3 </td>\n",
      "<td>4 </td>\n",
      "<td>2 </td>\n",
      "<td>3 </td>\n",
      "<td>2 </td>\n",
      "<td>2 </td>\n",
      "</tr>\n",
      "<tr>\n",
      "<td>3 </td>\n",
      "<td>1 </td>\n",
      "<td>2 </td>\n",
      "<td>3 </td>\n",
      "<td>1 </td>\n",
      "<td>3 </td>\n",
      "<td>2 </td>\n",
      "</tr>\n",
      "<tr>\n",
      "<td>4 </td>\n",
      "<td>1 </td>\n",
      "<td>3 </td>\n",
      "<td>1 </td>\n",
      "<td>2 </td>\n",
      "<td>4 </td>\n",
      "<td>4 </td>\n",
      "</tr>\n",
      "<tr>\n",
      "<td>5 </td>\n",
      "<td>2 </td>\n",
      "<td>5 </td>\n",
      "<td>1 </td>\n",
      "<td>1 </td>\n",
      "<td>5 </td>\n",
      "<td>1 </td>\n",
      "</tr>\n",
      "<tr>\n",
      "<td>6 </td>\n",
      "<td>1 </td>\n",
      "<td>6 </td>\n",
      "<td>4 </td>\n",
      "<td>1 </td>\n",
      "<td>1 </td>\n",
      "<td>4 </td>\n",
      "</tr>\n",
      "</table></center>\n",
      "\n",
      " Suppose we use locality-sensitive hashing with three bands of two rows each. Assume there are enough buckets available that the hash function for each band can be the identity function (i.e., columns hash to the same bucket if and only if they are identical in the band). Find all the candidate pairs, and then identify one of them in the list below.\n",
      "* C3 and C4\n",
      "* C4 and C5\n",
      "* C1 and C6\n",
      "* C2 and C7 "
     ]
    },
    {
     "cell_type": "code",
     "collapsed": false,
     "input": [
      "data = [\n",
      "    [1, 2, 1, 1, 2, 5, 4],\n",
      "    [2, 3, 4, 2, 3, 2, 2],\n",
      "    [3, 1, 2, 3, 1, 3, 2],\n",
      "    [4, 1, 3, 1, 2, 4, 4],\n",
      "    [5, 2, 5, 1, 1, 5, 1],\n",
      "    [6, 1, 6, 4, 1, 1, 4]\n",
      "]\n",
      "\n",
      "potential_pairs = []\n",
      "\n",
      "for band_index in range(0, 3):\n",
      "    row1 = data[band_index * 2]\n",
      "    row2 = data[band_index * 2 + 1]\n",
      "    \n",
      "    for c1_index in range(0, 7):\n",
      "        for c2_index in range(c1_index + 1, 7):\n",
      "            if row1[c1_index] == row1[c2_index] and row2[c1_index] == row2[c2_index]:\n",
      "                potential_pairs.append(\"C{0}-C{1}\".format(c1_index + 1, c2_index + 1))\n",
      "\n",
      "print(potential_pairs)"
     ],
     "language": "python",
     "metadata": {},
     "outputs": [
      {
       "output_type": "stream",
       "stream": "stdout",
       "text": [
        "['C1-C4', 'C2-C5', 'C1-C6', 'C1-C3', 'C4-C7']\n"
       ]
      }
     ],
     "prompt_number": 11
    },
    {
     "cell_type": "markdown",
     "metadata": {},
     "source": [
      "#Question 4\n",
      "Find the set of 2-shingles for the \"document\":\n",
      "\n",
      "ABRACADABRA\n",
      "\n",
      "and also for the \"document\":\n",
      "\n",
      "BRICABRAC\n",
      "\n",
      "Answer the following questions:\n",
      "\n",
      "1.    How many 2-shingles does ABRACADABRA have?\n",
      "2.    How many 2-shingles does BRICABRAC have?\n",
      "3.    How many 2-shingles do they have in common?\n",
      "4.    What is the Jaccard similarity between the two documents\"?\n",
      "\n",
      "Then, find the true statement in the list below.\n",
      "* There are 5 shingles in common.\n",
      "* There are 8 shingles in common.\n",
      "* BRICABRAC has 6 2-shingles.\n",
      "* ABRACADABRA has 5 2-shingles. "
     ]
    },
    {
     "cell_type": "code",
     "collapsed": false,
     "input": [
      "doc1 = 'ABRACADABRA'\n",
      "doc2 = 'BRICABRAC'\n",
      "\n",
      "def shingles(doc, len_hingle):  \n",
      "    shingles_doc = set()\n",
      "    for i in range(len(doc)-len_hingle+1):\n",
      "        shingles_doc.add(doc[i:i+2])\n",
      "        \n",
      "    return shingles_doc\n",
      "doc1_sh = shingles('ABRACADABRA', 2)\n",
      "doc2_sh = shingles('BRICABRAC', 2)\n",
      "\n",
      "print('ABRACADABRA has ', len(doc1_sh), '2-shingles', (doc1_sh),'.')\n",
      "print('BRICABRAC has ', len(doc2_sh), '2-shingles', (doc2_sh),'.')\n",
      "print('There are {} shingles in common'.format(len(doc1_sh & doc2_sh)))\n",
      "print(\"The Jaccard similarity is {}\".format(len(doc1_sh & doc2_sh)/len(doc1_sh | doc2_sh)))"
     ],
     "language": "python",
     "metadata": {},
     "outputs": [
      {
       "output_type": "stream",
       "stream": "stdout",
       "text": [
        "ABRACADABRA has  7 2-shingles {'BR', 'RA', 'DA', 'AB', 'AC', 'CA', 'AD'} .\n",
        "BRICABRAC has  7 2-shingles {'BR', 'RA', 'AB', 'AC', 'IC', 'CA', 'RI'} .\n",
        "There are 5 shingles in common\n",
        "The Jaccard similarity is 0.5555555555555556\n"
       ]
      }
     ],
     "prompt_number": 52
    },
    {
     "cell_type": "markdown",
     "metadata": {},
     "source": [
      "#Question 6\n",
      "Suppose we want to assign points to whichever of the points (0,0) or (100,40) is nearer. Depending on whether we use the L1 or L2 norm, a point (x,y) could be clustered with a different one of these two points. For this problem, you should work out the conditions under which a point will be assigned to (0,0) when the L1 norm is used, but assigned to (100,40) when the L2 norm is used. Identify one of those points from the list below.\n",
      "* (61,10)\n",
      "* (61,8)\n",
      "* (58,13)\n",
      "* (63,8)"
     ]
    },
    {
     "cell_type": "code",
     "collapsed": false,
     "input": [
      "from scipy.spatial.distance import cityblock, euclidean\n",
      "\n",
      "x0 = [0,0]\n",
      "x1 = [100,40]\n",
      "\n",
      "list_points = [[61,10], [61,8], [58,13], [63,8]]\n",
      "\n",
      "for point in list_points:\n",
      "    if (cityblock(x0, point) < cityblock(x1, point)) and (euclidean(x0, point) > euclidean(x1, point)):\n",
      "        print(point)"
     ],
     "language": "python",
     "metadata": {},
     "outputs": [
      {
       "output_type": "stream",
       "stream": "stdout",
       "text": [
        "[61, 8]\n"
       ]
      }
     ],
     "prompt_number": 53
    },
    {
     "cell_type": "code",
     "collapsed": false,
     "input": [],
     "language": "python",
     "metadata": {},
     "outputs": []
    }
   ],
   "metadata": {}
  }
 ]
}