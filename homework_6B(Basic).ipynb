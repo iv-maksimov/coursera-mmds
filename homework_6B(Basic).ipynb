{
 "metadata": {
  "name": "",
  "signature": "sha256:3b3d33a1936ae1ee616c77bd7c564db922894b84cbf7060cccba653e97590d83"
 },
 "nbformat": 3,
 "nbformat_minor": 0,
 "worksheets": [
  {
   "cells": [
    {
     "cell_type": "markdown",
     "metadata": {},
     "source": [
      "#Question 1\n",
      "The figure below shows two positive points (purple squares) and two negative points (green circles): "
     ]
    },
    {
     "cell_type": "code",
     "collapsed": false,
     "input": [
      "from IPython.display import Image\n",
      "Image(url='https://d396qusza40orc.cloudfront.net/mmds/images/otc_svm1.gif')"
     ],
     "language": "python",
     "metadata": {},
     "outputs": [
      {
       "html": [
        "<img src=\"https://d396qusza40orc.cloudfront.net/mmds/images/otc_svm1.gif\"/>"
       ],
       "metadata": {},
       "output_type": "pyout",
       "prompt_number": 3,
       "text": [
        "<IPython.core.display.Image at 0x40edfd0>"
       ]
      }
     ],
     "prompt_number": 3
    },
    {
     "cell_type": "markdown",
     "metadata": {},
     "source": [
      "That is, the training data set consists of:\n",
      "\n",
      "(x1,y1) = ((5,4),+1)\n",
      "\n",
      "(x2,y2) = ((8,3),+1)\n",
      "\n",
      "(x3,y3) = ((7,2),-1)\n",
      "\n",
      "(x4,y4) = ((3,3),-1)\n",
      "\n",
      "Our goal is to find the maximum-margin linear classifier for this data. In easy cases, the shortest line between a positive and negative point has a perpendicular bisector that separates the points. If so, the perpendicular bisector is surely the maximum-margin separator. Alas, in this case, the closest pair of positive and negative points, x2 and x3, have a perpendicular bisector that misclassifies x1 as negative, so that won't work.\n",
      "\n",
      "The next-best possibility is that we can find a pair of points on one side (i.e., either two positive or two negative points) such that a line parallel to the line through these points is the maximum-margin separator. In these cases, the limit to how far from the two points the parallel line can get is determined by the closest (to the line between the two points) of the points on the other side. For our simple data set, this situation holds.\n",
      "\n",
      "Consider all possibilities for boundaries of this type, and express the boundary as w.x+b=0, such that w.x+b\u22651 for positive points x and w.x+b\u2264-1 for negative points x. Assuming that w = (w1,w2), identify in the list below the true statement about one of w1, w2, and b.\n",
      "\n",
      "* w1 = 1\n",
      "* w1 = 1/2\n",
      "* w1 = 2/5\n",
      "* w2 = 8/5"
     ]
    },
    {
     "cell_type": "code",
     "collapsed": false,
     "input": [
      "import numpy as np\n",
      "\n",
      "X = np.array([[5,4], [8,3], [7,2], [3,3]])\n",
      "Y = np.array([1,1,-1,-1])"
     ],
     "language": "python",
     "metadata": {},
     "outputs": [],
     "prompt_number": 68
    },
    {
     "cell_type": "code",
     "collapsed": false,
     "input": [
      "from sklearn.svm import LinearSVC"
     ],
     "language": "python",
     "metadata": {},
     "outputs": [],
     "prompt_number": 66
    },
    {
     "cell_type": "code",
     "collapsed": false,
     "input": [
      "import matplotlib.pyplot as plt\n",
      "%matplotlib inline\n",
      "from sklearn import svm\n",
      "\n",
      "# fit the model\n",
      "clf = svm.SVC(kernel='linear', C=np.inf)\n",
      "#clf = LinearSVC(C=1000000)\n",
      "clf.fit(X, Y)\n",
      "\n",
      "# get the separating hyperplane\n",
      "w = clf.coef_[0]\n",
      "a = -w[0] / w[1]\n",
      "xx = np.linspace(0, 10)\n",
      "yy = a * xx - (clf.intercept_[0]) / w[1]\n",
      "\n",
      "print('w1 = {}, w2 = {}, b = {}'.format(w[0], w[1], clf.intercept_[0]))\n",
      "\n",
      "# plot the parallels to the separating hyperplane that pass through the\n",
      "# support vectors\n",
      "margin = 1 / np.sqrt(np.sum(clf.coef_[0] ** 2))\n",
      "yy_down = yy + a * margin\n",
      "yy_up = yy - a * margin\n",
      "\n",
      "# plot the line, the points, and the nearest vectors to the plane\n",
      "plt.figure(fignum, figsize=(8, 4))\n",
      "plt.clf()\n",
      "plt.plot(xx, yy, 'k-')\n",
      "plt.plot(xx, yy_down, 'k--')\n",
      "plt.plot(xx, yy_up, 'k--')\n",
      "\n",
      "plt.scatter(X[:,0], X[:,1], c=Y, s = 100)"
     ],
     "language": "python",
     "metadata": {},
     "outputs": [
      {
       "output_type": "stream",
       "stream": "stdout",
       "text": [
        "w1 = 0.4998888224807372, w2 = 1.499666467442211, b = -7.498258218864881\n"
       ]
      },
      {
       "output_type": "stream",
       "stream": "stderr",
       "text": [
        "c:\\WinPython-64bit-3.3.3.3\\python-3.3.3.amd64\\lib\\site-packages\\sklearn\\svm\\base.py:233: DeprecationWarning: using a non-integer number instead of an integer will result in an error in the future\n",
        "  max_iter=self.max_iter, random_seed=random_seed)\n"
       ]
      },
      {
       "metadata": {},
       "output_type": "pyout",
       "prompt_number": 86,
       "text": [
        "<matplotlib.collections.PathCollection at 0xb8f0438>"
       ]
      },
      {
       "metadata": {},
       "output_type": "display_data",
       "png": "[encoded data removed]",
       "text": [
        "<matplotlib.figure.Figure at 0x162ea668>"
       ]
      }
     ],
     "prompt_number": 86
    },
    {
     "cell_type": "markdown",
     "metadata": {},
     "source": [
      "#Question 2\n",
      "Consider the following training set of 16 points. The eight purple squares are positive examples, and the eight green circles are negative examples."
     ]
    },
    {
     "cell_type": "code",
     "collapsed": false,
     "input": [
      "Image(url='https://d396qusza40orc.cloudfront.net/mmds/images/newsvm4.gif')"
     ],
     "language": "python",
     "metadata": {},
     "outputs": [
      {
       "html": [
        "<img src=\"https://d396qusza40orc.cloudfront.net/mmds/images/newsvm4.gif\"/>"
       ],
       "metadata": {},
       "output_type": "pyout",
       "prompt_number": 70,
       "text": [
        "<IPython.core.display.Image at 0x14ed4198>"
       ]
      }
     ],
     "prompt_number": 70
    },
    {
     "cell_type": "markdown",
     "metadata": {},
     "source": [
      "We propose to use the diagonal line with slope +1 and intercept +2 as a decision boundary, with positive examples above and negative examples below. However, like any linear boundary for this training set, some examples are misclassified. We can measure the goodness of the boundary by computing all the slack variables that exceed 0, and then using them in one of several objective functions. In this problem, we shall only concern ourselves with computing the slack variables, not an objective function.\n",
      "\n",
      "To be specific, suppose the boundary is written in the form w.x+b=0, where w = (-1,1) and b = -2. Note that we can scale the three numbers involved as we wish, and so doing changes the margin around the boundary. However, we want to consider this specific boundary and margin.\n",
      "\n",
      "Determine the slack for each of the 16 points. Then, identify the correct statement in the list below.\n",
      "\n",
      "* The slack for (1,4) is 0.\n",
      "* The slack for (7,8) is 2.\n",
      "* The slack for (3,4) is 0.\n",
      "* The slack for (7,8) is 0."
     ]
    },
    {
     "cell_type": "code",
     "collapsed": false,
     "input": [
      "np.dot([-1,1],[7,4]) -2"
     ],
     "language": "python",
     "metadata": {},
     "outputs": [
      {
       "metadata": {},
       "output_type": "pyout",
       "prompt_number": 90,
       "text": [
        "-5"
       ]
      }
     ],
     "prompt_number": 90
    },
    {
     "cell_type": "code",
     "collapsed": false,
     "input": [],
     "language": "python",
     "metadata": {},
     "outputs": []
    }
   ],
   "metadata": {}
  }
 ]
}