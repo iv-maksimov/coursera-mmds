{
 "cells": [
  {
   "cell_type": "markdown",
   "metadata": {},
   "source": [
    "#Question 1\n",
    "Consider the diagonal matrix M =\n",
    "\n",
    "\n",
    "|   |   | |\n",
    "|---|---|-|\n",
    "|1 \t|0 \t|0|\n",
    "|0 \t|2 \t|0|\n",
    "|0 \t|0 \t|0|\n",
    "\n",
    "Compute its Moore-Penrose pseudoinverse, and then identify, in the list below, the true statement about the elements of the pseudoinverse.\n",
    "\n",
    "* There are two elements with value 1.\n",
    "* There is one element with value -2.\n",
    "* There is one element with value infinity.\n",
    "* There are seven elements with value 0.\n"
   ]
  },
  {
   "cell_type": "code",
   "execution_count": 2,
   "metadata": {
    "collapsed": false
   },
   "outputs": [
    {
     "data": {
      "text/plain": [
       "array([[ 1. ,  0. ,  0. ],\n",
       "       [ 0. ,  0.5,  0. ],\n",
       "       [ 0. ,  0. ,  0. ]])"
      ]
     },
     "execution_count": 2,
     "metadata": {},
     "output_type": "execute_result"
    }
   ],
   "source": [
    "import numpy as np\n",
    "\n",
    "M = np.diag([1,2,0])\n",
    "np.linalg.pinv(M)"
   ]
  },
  {
   "cell_type": "markdown",
   "metadata": {},
   "source": [
    "#Question 2\n",
    "An ad publisher selects three ads to place on each page, in order from the top. Click-through rates (CTR's) at each position differ for each advertiser, and each advertiser has a different CTR for each position. Each advertiser bids for click-throughs, and each advertiser has a daily budget, which may not be exceeded. When a click-through occurs, the advertiser pays the amount they bid. In one day, there are 101 click-throughs to be auctioned.\n",
    "\n",
    "Here is a table of the bids, CTR's for positions 1, 2, and 3, and budget for each advertiser. \n",
    "\n",
    "<center><table >\n",
    "<tr>\n",
    "<th>Advertiser</th>\n",
    "<th>Bid</th>\n",
    "<th>CTR1</th>\n",
    "<th>CTR2</th>\n",
    "<th>CTR3</th>\n",
    "<th>Budget</th>\n",
    "</tr>\n",
    "<tr>\n",
    "<td>A</td>\n",
    "<td>.10 </td>\n",
    "<td>.015</td>\n",
    "<td>.010</td>\n",
    "<td>.005</td>\n",
    "<td>1</td>\n",
    "</tr>\n",
    "<tr>\n",
    "<td>B</td>\n",
    "<td>.09</td>\n",
    "<td>.016</td>\n",
    "<td>.012</td>\n",
    "<td>.006</td>\n",
    "<td>2</td>\n",
    "</tr>\n",
    "<tr>\n",
    "<td>C</td>\n",
    "<td>.08</td>\n",
    "<td>.017</td>\n",
    "<td>.014</td>\n",
    "<td>.007</td>\n",
    "<td>3</td>\n",
    "</tr>\n",
    "<tr>\n",
    "<td>D</td>\n",
    "<td>.07</td>\n",
    "<td>.018</td>\n",
    "<td>.015</td>\n",
    "<td>.008</td>\n",
    "<td>4</td>\n",
    "</tr>\n",
    "<tr>\n",
    "<td>E</td>\n",
    "<td>.06</td>\n",
    "<td>.019</td>\n",
    "<td>.016</td>\n",
    "<td>.010</td>\n",
    "<td>5</td>\n",
    "</tr>\n",
    "</table></center>\n",
    "\n",
    " The publisher uses the following strategy to allocate the three ad slots:\n",
    "\n",
    "1.    Any advertiser whose budget is spent is ignored in what follows.\n",
    "2.    The first slot goes to the advertiser whose expected yield for the first slot (product of the bid and the CTR for the first slot) is the greatest. This advertiser is ignored in what follows.\n",
    "3.    The second slot goes to the advertiser whose expected yield for the second slot (product of the bid and the CTR for the second slot) is the greatest. This advertiser is ignored in what follows.\n",
    "4.    The third slot goes to the advertiser whose expected yield for the third slot (product of the bid and the CTR for the third slot) is the greatest.\n",
    "\n",
    "The same three advertisers get the three ad positions until one of two things happens:\n",
    "\n",
    "1.    An advertiser runs out of budget, or\n",
    "2.    All 101 click-throughs have been obtained.\n",
    "\n",
    "Either of these events ends one phase of the allocation. If a phase ends because an advertiser ran out of budget, then they are assumed to get all the clicks their budget buys. During the same phase, we calculate the number of click-throughs received by the other two advertisers by assuming that all three received click-throughs in proportion to their respective CTR's for their positions (round to the nearest integer). If click-throughs remain, the publisher reallocates all three slots and starts a new phase.\n",
    "\n",
    "If the phase ends because all click-throughs have been allocated, assume that the three advertisers received click-throughs in proportion to their respective CTR's (again, rounding if necessary).\n",
    "\n",
    "Your task is to simulate the allocation of slots and to determine how many click-throughs each of the five advertisers get."
   ]
  },
  {
   "cell_type": "markdown",
   "metadata": {},
   "source": [
    "Answer: A gets 10 click-throughs. "
   ]
  },
  {
   "cell_type": "markdown",
   "metadata": {},
   "source": [
    "#Question 3\n",
    "In certain clustering algorithms, such as CURE, we need to pick a representative set of points in a supposed cluster, and these points should be as far away from each other as possible. That is, begin with the two furthest points, and at each step add the point whose minimum distance to any of the previously selected points is maximum.\n",
    "\n",
    "Suppose you are given the following points in two-dimensional Euclidean space: x = (0,0); y = (10,10), a = (1,6); b = (3,7); c = (4,3); d = (7,7), e = (8,2); f = (9,5). Obviously, x and y are furthest apart, so start with these. You must add five more points, which we shall refer to as the first, second,..., fifth points in what follows. The distance measure is the normal Euclidean L2-norm. Which of the following is true about the order in which the five points are added?\n"
   ]
  },
  {
   "cell_type": "markdown",
   "metadata": {},
   "source": [
    "Answer: f is added fifth"
   ]
  },
  {
   "cell_type": "code",
   "execution_count": null,
   "metadata": {
    "collapsed": true
   },
   "outputs": [],
   "source": []
  }
 ],
 "metadata": {
  "kernelspec": {
   "display_name": "Python 3",
   "language": "python",
   "name": "python3"
  },
  "language_info": {
   "codemirror_mode": {
    "name": "ipython",
    "version": 3
   },
   "file_extension": ".py",
   "mimetype": "text/x-python",
   "name": "python",
   "nbconvert_exporter": "python",
   "pygments_lexer": "ipython3",
   "version": "3.4.0"
  }
 },
 "nbformat": 4,
 "nbformat_minor": 0
}
